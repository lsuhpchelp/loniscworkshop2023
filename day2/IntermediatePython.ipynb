{
  "cells": [
    {
      "cell_type": "markdown",
      "metadata": {
        "id": "view-in-github",
        "colab_type": "text"
      },
      "source": [
        "<a href=\"https://colab.research.google.com/github/lsuhpchelp/loniscworkshop2023/blob/main/day2/IntermediatePython.ipynb\" target=\"_parent\"><img src=\"https://colab.research.google.com/assets/colab-badge.svg\" alt=\"Open In Colab\"/></a>"
      ]
    },
    {
      "cell_type": "markdown",
      "metadata": {
        "id": "DdlQwl05ibyS"
      },
      "source": [
        "# Day 2: Intermediate Python\n",
        "## 5th LBRN-LONI Scientific Computing Bootcamp\n",
        "May 26 2023"
      ]
    },
    {
      "cell_type": "markdown",
      "source": [
        "# **Outlines**"
      ],
      "metadata": {
        "id": "N8aZHjcULa35"
      }
    },
    {
      "cell_type": "markdown",
      "source": [
        "\n",
        "1.   Intro to NumPy\n",
        "2.   Basic Usage\n",
        "3.   Shape Manipulation\n",
        "4.   Faster with Numpy: Advanced Array Operations\n",
        "5.   Examples"
      ],
      "metadata": {
        "id": "POT4uJsRL3k4"
      }
    },
    {
      "cell_type": "markdown",
      "source": [
        "<br><br>\n",
        "\n",
        "---\n",
        "# **0. Quick Review: Lists & Tuples**\n",
        "---\n"
      ],
      "metadata": {
        "id": "IfxMvcwMLj9D"
      }
    },
    {
      "cell_type": "markdown",
      "source": [
        "## 1) Lists"
      ],
      "metadata": {
        "id": "t7G9_NVE_-ge"
      }
    },
    {
      "cell_type": "code",
      "source": [
        "# Create a list\n",
        "\n",
        "myList = [1, 4, 9, 16]\n",
        "print(myList)\n",
        "print(type(myList))"
      ],
      "metadata": {
        "id": "vjKvc-5VCXMB"
      },
      "execution_count": null,
      "outputs": []
    },
    {
      "cell_type": "code",
      "source": [
        "# List can be inhomogeneous\n",
        "\n",
        "myList = [1, 2e10, \"hello\", True]\n",
        "print(myList)\n",
        "print(type(myList))\n",
        "#print([type(ele) for ele in myList])"
      ],
      "metadata": {
        "id": "QCoKTg14H9k3"
      },
      "execution_count": null,
      "outputs": []
    },
    {
      "cell_type": "code",
      "source": [
        "# Access / Modification elements in a list\n",
        "\n",
        "myList = [1, 4, 9, 16]\n",
        "\n",
        "# Accessing\n",
        "print(myList[2])\n",
        "\n",
        "# Modification\n",
        "myList[2] = myList[0] * -1\n",
        "print(myList)"
      ],
      "metadata": {
        "id": "bj2ICtIdJOdc"
      },
      "execution_count": null,
      "outputs": []
    },
    {
      "cell_type": "code",
      "source": [
        "# Indexing & slicing\n",
        "\n",
        "myList = list(range(10))\n",
        "print(myList)\n",
        "#print(myList[1:5])\n",
        "#print(myList[1:])\n",
        "#print(myList[:5])\n",
        "#print(myList[1:5:2])\n",
        "#print(myList[-5:-1])\n",
        "#print(myList[:])"
      ],
      "metadata": {
        "id": "nFkdCjzHKC6L"
      },
      "execution_count": null,
      "outputs": []
    },
    {
      "cell_type": "markdown",
      "source": [
        "Note: We will see some similarity & differences between lists and NumPy arrays. We will also get to the point why you want to use NumPy array for numerical calculations instead of lists."
      ],
      "metadata": {
        "id": "nuO8y6Z-O3Gq"
      }
    },
    {
      "cell_type": "markdown",
      "source": [
        "## 2) Tuples"
      ],
      "metadata": {
        "id": "9C9bn72NACIQ"
      }
    },
    {
      "cell_type": "code",
      "source": [
        "# Create a tuple\n",
        "\n",
        "myTuple = (1, \"two\", 3, \"four\", 5, \"six\")  # Can be inhomogeneous\n",
        "print(myTuple)"
      ],
      "metadata": {
        "id": "ZhkFmimtLcVV"
      },
      "execution_count": null,
      "outputs": []
    },
    {
      "cell_type": "code",
      "source": [
        "# Create a typle: \"()\" can be emitted:\n",
        "\n",
        "myTuple = 1, \"two\", 3, \"four\", 5, \"six\"\n",
        "print(myTuple)"
      ],
      "metadata": {
        "id": "SleN8u73MQcp"
      },
      "execution_count": null,
      "outputs": []
    },
    {
      "cell_type": "code",
      "source": [
        "# Tuple with one element: must include comma\n",
        "\n",
        "myTuple = (50,)    # (50,)    50,   \n",
        "print(myTuple)"
      ],
      "metadata": {
        "id": "ZA4ZnH7DMa5X"
      },
      "execution_count": null,
      "outputs": []
    },
    {
      "cell_type": "code",
      "source": [
        "# Indexing and slicing (similar to lists)\n",
        "\n",
        "myTuple = (1, \"two\", 3, \"four\", 5, \"six\")\n",
        "print(myTuple)\n",
        "\n",
        "# Indexing\n",
        "#print(myTuple[1])\n",
        "#print(myTuple[-2])\n",
        "\n",
        "# Slicing\n",
        "#print(myTuple[1:5])\n",
        "#print(myTuple[1:])\n",
        "#print(myTuple[:5])\n",
        "#print(myTuple[1:5:2])\n",
        "#print(myTuple[-5:-1])\n",
        "#print(myTuple[:])"
      ],
      "metadata": {
        "id": "A8GMsQ3zNLl9"
      },
      "execution_count": null,
      "outputs": []
    },
    {
      "cell_type": "code",
      "source": [
        "# Primary difference b/w Tuple & List:\n",
        "#    Tuple is IMMUTABLE!\n",
        "\n",
        "myTuple = (1, \"two\", 3, \"four\", 5, \"six\")\n",
        "myTuple[1] = 2     # Will fail!"
      ],
      "metadata": {
        "id": "mjK2fAKCMy-y"
      },
      "execution_count": null,
      "outputs": []
    },
    {
      "cell_type": "code",
      "source": [
        "# Typical usage: Unpacking\n",
        "\n",
        "myList = [\"apple\", \"banana\", \"citrus\", \"dragonfruit\"]\n",
        "\n",
        "# Return the first variable and the lenth of the list\n",
        "firstVar, lengthList = (myList[0], len(myList))\n",
        "print(\"First variable is:\\t\", firstVar)\n",
        "print(\"Length of the list is:\\t\", lengthList)"
      ],
      "metadata": {
        "id": "OuqyerS1T48g"
      },
      "execution_count": null,
      "outputs": []
    },
    {
      "cell_type": "markdown",
      "source": [
        "Note: Tuples in many cases are used to ***return*** and ***unpack*** multiple variables in today's training"
      ],
      "metadata": {
        "id": "9nUEVs22Tl-j"
      }
    },
    {
      "cell_type": "markdown",
      "source": [
        "<br><br>\n",
        "\n",
        "---\n",
        "# **1. Intro to NumPy**\n",
        "---"
      ],
      "metadata": {
        "id": "3XTu02FGbpya"
      }
    },
    {
      "cell_type": "markdown",
      "source": [
        "## 1) What is NumPy"
      ],
      "metadata": {
        "id": "VkfA0g1H2plC"
      }
    },
    {
      "cell_type": "markdown",
      "source": [
        "- NumPy (Numeric Python) is the fundamental package for scientific computing in Python.\n",
        "- A Python library, provides a multidimensional array object, various derived objects (such as masked arrays and matrices)\n",
        "- An assortment of routines for fast operations on arrays, including mathematical, logical, shape manipulation, sorting, selecting, I/O, discrete Fourier transforms, basic linear algebra, basic statistical operations, random simulation and much more.\n",
        "- In short , NumPy package provides basic routines for manipulating large arrays and matrices of numeric data. \n",
        "- See https://numpy.org/"
      ],
      "metadata": {
        "id": "etY09V3J2xpx"
      }
    },
    {
      "cell_type": "markdown",
      "source": [
        "## 2) Why NumPy?"
      ],
      "metadata": {
        "id": "7IJXgzjN3Hes"
      }
    },
    {
      "cell_type": "markdown",
      "source": [
        "Arrays and matrices? Didn't we have ***List*** in Python already?\n",
        "\n"
      ],
      "metadata": {
        "id": "cS5YZ2Q73HVR"
      }
    },
    {
      "cell_type": "markdown",
      "source": [
        "\n",
        "\n",
        "*   NumPy is much faster (We will see later in today's training)\n",
        "*   NumPy provides easier and larger variety of accessing methods\n",
        "*   A **LOT** (I mean, a **LOT**) of Python modules are built on NumPy (e.g., SciPy, pandas, Tensorflow, PyTorch, ...)"
      ],
      "metadata": {
        "id": "7jmuZk8b4Kgq"
      }
    },
    {
      "cell_type": "markdown",
      "source": [
        "<br><br>\n",
        "\n",
        "---\n",
        "# **2. Basic Usage**\n",
        "---"
      ],
      "metadata": {
        "id": "z11ke-zlb19F"
      }
    },
    {
      "cell_type": "markdown",
      "source": [
        "## 1) Import NumPy\n"
      ],
      "metadata": {
        "id": "EafcYxgxdCZY"
      }
    },
    {
      "cell_type": "code",
      "source": [
        "import numpy as np\n",
        "print(np.__version__)"
      ],
      "metadata": {
        "id": "n9mQtV5uW_NB"
      },
      "execution_count": null,
      "outputs": []
    },
    {
      "cell_type": "markdown",
      "source": [
        "## 2) Create a NumPy Array"
      ],
      "metadata": {
        "id": "y_qQbwFZXv1N"
      }
    },
    {
      "cell_type": "code",
      "source": [
        "# Basic usage: Create from a list\n",
        "# https://numpy.org/doc/stable/reference/generated/numpy.array.html\n",
        "\n",
        "myList = [1, 4, 9, 16]\n",
        "print(\"myList = \", myList)\n",
        "print(\"Type is: \", type(myList))\n",
        "\n",
        "#myAry = np.array(myList)\n",
        "#print(\"\\nmyAry = \", myAry)\n",
        "#print(\"Type is: \", type(myAry))"
      ],
      "metadata": {
        "id": "wngYdNEIXurH"
      },
      "execution_count": null,
      "outputs": []
    },
    {
      "cell_type": "code",
      "source": [
        "# Create a multi-dimensional array (from a multi-dimensional list)\n",
        "\n",
        "myAry = np.array([[0, 1, 2, 3],\n",
        "                  [4, 5, 6, 7],\n",
        "                  [8, 9, 10, 11]])\n",
        "print(\"myAry = \", myAry)\n",
        "print(\"Type is: \", type(myAry))"
      ],
      "metadata": {
        "id": "r_TCdkhsu_nu"
      },
      "execution_count": null,
      "outputs": []
    },
    {
      "cell_type": "code",
      "source": [
        "# NumPy arrays are homogenous, i.e., ONE defined data type! (Unlike lists!)\n",
        "\n",
        "# Return the dtype (data type) of array:\n",
        "myAry = np.array([1, 4, 9, 16])\n",
        "#myAry = np.array([1., 4., 9., 16.])\n",
        "#myAry = np.array([\"1\", \"4\", \"9\", \"16\"])\n",
        "print(\"myAry = \", myAry)\n",
        "print(\"Data type is: \", myAry.dtype)\n",
        "\n",
        "# What if I try to create an inhomogeneous array?"
      ],
      "metadata": {
        "id": "XQAEVpwyZVKW"
      },
      "execution_count": null,
      "outputs": []
    },
    {
      "cell_type": "markdown",
      "source": [
        "\n",
        "\n",
        "> *   Does not need to check data type -> Fast!\n",
        "> *   It is possible to create inhomogeneous array (***structured array***), but only for rare cases (like talking to structured data in C). Will not discuss today.\n",
        "\n"
      ],
      "metadata": {
        "id": "alOT7uR4DA5t"
      }
    },
    {
      "cell_type": "code",
      "source": [
        "# Specify array type:\n",
        "\n",
        "# Method 1: Create an array with specific dtype\n",
        "# Works for most other array creation methods!! Will see later\n",
        "myAry = np.array([1, 4, 9, 16], dtype=\"float\")\n",
        "print(\"myAry = \", myAry)\n",
        "print(\"Data type is: \", myAry.dtype)\n",
        "\n",
        "# Method 2: Convert the dtype of an existing array\n",
        "# https://numpy.org/doc/stable/reference/generated/numpy.ndarray.astype.html#numpy.ndarray.astype\n",
        "myAry2 = myAry.astype(\"int\")\n",
        "print(\"\\nmyAry2 = \", myAry2)\n",
        "print(\"Data type is: \", myAry2.dtype)"
      ],
      "metadata": {
        "id": "7mFd5sOhba7j"
      },
      "execution_count": null,
      "outputs": []
    },
    {
      "cell_type": "markdown",
      "source": [
        "##### List of dtypes:"
      ],
      "metadata": {
        "id": "rxHCVdO8cs9x"
      }
    },
    {
      "cell_type": "markdown",
      "source": [
        "> *   Integer: `int`, `int8`, `int16`, `int32`, `int64`,\n",
        "*   Unsigned integer: `uint`, `uint8`, `uint16`, `uint32`, `uint64`\n",
        "*   Float number: `float`, `float16`, `float32`, `float64`, `float128`\n",
        "*   Complex number: `complex64`, `complex128`, `complex256`\n",
        "*   Boolean: `bool`\n",
        "*   String: `str`, `<U[LEN]` (e.g., `<U16`)\n",
        "\n",
        "Not an exhaustive list. For more options and alias, see: https://numpy.org/doc/stable/user/basics.types.html"
      ],
      "metadata": {
        "id": "r02BOPWSfame"
      }
    },
    {
      "cell_type": "markdown",
      "source": [
        "## 3) More Ways to Create a NumPy Array"
      ],
      "metadata": {
        "id": "l9NIpZdzjH0f"
      }
    },
    {
      "cell_type": "markdown",
      "source": [
        "#### a) 1-D array:"
      ],
      "metadata": {
        "id": "728TIK2azK4t"
      }
    },
    {
      "cell_type": "code",
      "source": [
        "# Increment: np.arange()   (*Similar to range())\n",
        "# https://numpy.org/doc/stable/reference/generated/numpy.arange.html\n",
        "\n",
        "myAry = np.arange(10)\n",
        "#myAry = np.arange(10, dtype=\"complex\")\n",
        "#myAry = np.arange(-0.5, 0.5, 0.1)\n",
        "print(\"myAry = \", myAry)"
      ],
      "metadata": {
        "id": "W2RVC3y5Plc3"
      },
      "execution_count": null,
      "outputs": []
    },
    {
      "cell_type": "code",
      "source": [
        "# Linear / equal spacing: np.linspace()\n",
        "# https://numpy.org/doc/stable/reference/generated/numpy.linspace.html\n",
        "\n",
        "myAry = np.linspace(0, 10, 5)\n",
        "#myAry = np.linspace(0, 10, 5, endpoint=False)\n",
        "#myAry = np.linspace(0, 10, 5, dtype=\"int\")\n",
        "#myAry, step = np.linspace(0, 10, 5, retstep=True)\n",
        "print(\"myAry = \", myAry)"
      ],
      "metadata": {
        "id": "jsBKyANm0Bbp"
      },
      "execution_count": null,
      "outputs": []
    },
    {
      "cell_type": "code",
      "source": [
        "# Equal spacing, but in log scale: np.logspace()\n",
        "# https://numpy.org/doc/stable/reference/generated/numpy.logspace.html\n",
        "\n",
        "myAry = np.logspace(0, 1, 5)\n",
        "#myAry = np.logspace(0, 1, 5, base=2)\n",
        "print(\"myAry = \", myAry)\n",
        "\n",
        "# Plot it (Don't worry if you do not know matplotlib yet)\n",
        "#import matplotlib.pyplot as plt\n",
        "#plt.plot(np.logspace(0, 1, 5),'r-s')\n",
        "#plt.plot(np.linspace(0, 1, 5),'b-s')"
      ],
      "metadata": {
        "id": "tahjSh102fZA"
      },
      "execution_count": null,
      "outputs": []
    },
    {
      "cell_type": "markdown",
      "source": [
        "#### b) 2-D array:"
      ],
      "metadata": {
        "id": "8P7Lo_wE2ezy"
      }
    },
    {
      "cell_type": "code",
      "source": [
        "# Identity matrix: np.identity()\n",
        "# https://numpy.org/doc/stable/reference/generated/numpy.identity.html\n",
        "\n",
        "myAry = np.identity(5)\n",
        "#myAry = np.identity(5, dtype=\"int\")\n",
        "print(\"myAry = \\n\", myAry)"
      ],
      "metadata": {
        "id": "45cd1GjJ_pJM"
      },
      "execution_count": null,
      "outputs": []
    },
    {
      "cell_type": "code",
      "source": [
        "# Identity matrix: np.eye() \n",
        "# https://numpy.org/doc/stable/reference/generated/numpy.eye.html\n",
        "\n",
        "myAry = np.eye(5)\n",
        "#myAry = np.eye(5, dtype=\"int\")\n",
        "#myAry = np.eye(5, 7)\n",
        "#myAry = np.eye(5, k=1)\n",
        "print(\"myAry = \\n\", myAry)"
      ],
      "metadata": {
        "id": "sIA8RT4sHGSu"
      },
      "execution_count": null,
      "outputs": []
    },
    {
      "cell_type": "code",
      "source": [
        "# Diagonal matrix: np.diag() \n",
        "# https://numpy.org/doc/stable/reference/generated/numpy.diag.html\n",
        "\n",
        "myAry = np.diag([1, 4, 9, 16, 25])\n",
        "#myAry = np.diag([1, 4, 9, 16, 25], k=-1)\n",
        "print(\"myAry = \\n\", myAry)"
      ],
      "metadata": {
        "id": "84ic-XSQHpTf"
      },
      "execution_count": null,
      "outputs": []
    },
    {
      "cell_type": "markdown",
      "source": [
        "#### c) General Array:"
      ],
      "metadata": {
        "id": "eQxt7QI9I9gt"
      }
    },
    {
      "cell_type": "code",
      "source": [
        "# Create array with given dimension\n",
        "# np.zeros(): Filled with zeros  https://numpy.org/doc/stable/reference/generated/numpy.zeros.html\n",
        "# np.ones():  Filled with ones  https://numpy.org/doc/stable/reference/generated/numpy.ones.html\n",
        "# np.full():  With given initial value  https://numpy.org/doc/stable/reference/generated/numpy.full.html\n",
        "# np.empty(): No initial value https://numpy.org/doc/stable/reference/generated/numpy.empty.html\n",
        "\n",
        "shape = (2,3,4)  # A 3-D array\n",
        "\n",
        "myAry = np.zeros(shape)\n",
        "#myAry = np.zeros(shape, dtype=\"int\")\n",
        "\n",
        "#myAry = np.ones(shape)\n",
        "#myAry = np.ones(shape, dtype=\"int\")\n",
        "\n",
        "#myAry = np.full(shape, np.pi)\n",
        "#myAry = np.full(shape, np.pi, dtype=\"int\")\n",
        "\n",
        "#myAry = np.empty(shape)\n",
        "#myAry = np.empty(shape, dtype=\"int\")\n",
        "\n",
        "print(\"myAry = \\n\", myAry)\n",
        "\n",
        "# You may think it is easy. Think about how to set all numbers to 0 with lists? "
      ],
      "metadata": {
        "id": "bHfSNteXG0VP"
      },
      "execution_count": null,
      "outputs": []
    },
    {
      "cell_type": "markdown",
      "source": [
        "#### d) Load Data from Text File"
      ],
      "metadata": {
        "id": "rhmxkQTkaLgN"
      }
    },
    {
      "cell_type": "code",
      "execution_count": null,
      "metadata": {
        "id": "Q9cCgPodgO5B"
      },
      "outputs": [],
      "source": [
        "# Load an external data file (local or from remote server): np.loadtxt()\n",
        "# https://numpy.org/doc/stable/reference/generated/numpy.loadtxt.html\n",
        "\n",
        "txtfile = 'https://github.com/lsuhpchelp/loniscworkshop2023/raw/main/day2/data.txt'\n",
        "myAry = np.loadtxt(txtfile, \n",
        "                    skiprows=16, \n",
        "                    usecols={0,1,2}, \n",
        "                    comments=\"#\")\n",
        "print(\"myAry = \\n\", myAry)"
      ]
    },
    {
      "cell_type": "markdown",
      "source": [
        "> * Keep all of above creation methods in mind. You will need them later in the practice!"
      ],
      "metadata": {
        "id": "x51c0ygTcBR6"
      }
    },
    {
      "cell_type": "markdown",
      "source": [
        "## 4) Basic Operations\n",
        "(Just a quick glimpse. Will see details later)"
      ],
      "metadata": {
        "id": "nKqY30pYf1eW"
      }
    },
    {
      "cell_type": "code",
      "source": [
        "# Remeber how lists handle those operators?\n",
        "\n",
        "myList1 = [2, 3, 4, 5]\n",
        "myList2 = [2, 6, 24, 120]\n",
        "\n",
        "print(\"myList1 + myList2 = \\t\", myList1 + myList2)  # List add\n",
        "print(\"    myList1 * 3 = \\t\", myList1 * 3)            # List multiplication"
      ],
      "metadata": {
        "id": "aLS2FgXHiVcA"
      },
      "execution_count": null,
      "outputs": []
    },
    {
      "cell_type": "code",
      "source": [
        "# How does NumPy handle them?\n",
        "\n",
        "myAry1 = np.array([2, 3, 4, 5])\n",
        "myAry2 = np.array([2, 6, 24, 120])\n",
        "\n",
        "print(\"myAry1 + myAry2 = \\t\", myAry1 + myAry2)\n",
        "print(\"    myAry1 * 3 = \\t\", myAry1 * 3)"
      ],
      "metadata": {
        "id": "3SDZ7vgljVwi"
      },
      "execution_count": null,
      "outputs": []
    },
    {
      "cell_type": "code",
      "source": [
        "# Broadcast of basic operators: A quick glimpse\n",
        "\n",
        "myAry1 = np.array([2, 3, 4, 5])\n",
        "myAry2 = np.array([2, 6, 24, 120])\n",
        "\n",
        "# Case 1: Array & array -> Same shape, element-by-element\n",
        "print(\"myAry2 / myAry1 = \\t\", myAry1 / myAry2)\n",
        "print(\"myAry2 ** myAry1 = \\t\", myAry2 ** myAry1)\n",
        "\n",
        "# Case 2: Array & scalar -> Broadcast scalar to each element\n",
        "print(\"\\nmyAry1 % 2 = \\t\", myAry1 % 2)\n",
        "print(\"myAry2 - 10 = \\t\", myAry2 - 10)"
      ],
      "metadata": {
        "id": "ZEH3ja6enRbq"
      },
      "execution_count": null,
      "outputs": []
    },
    {
      "cell_type": "markdown",
      "source": [
        "## 5) Basic Indexing"
      ],
      "metadata": {
        "id": "W_0BzVYSSfuE"
      }
    },
    {
      "cell_type": "code",
      "source": [
        "# Access individual elements\n",
        "# https://numpy.org/doc/stable/user/basics.indexing.html\n",
        "\n",
        "myAry = np.arange(5)\n",
        "print(\"myAry = \\t\", myAry)\n",
        "print(\"myAry[0] = \\t\", myAry[0])\n",
        "print(\"myAry[-1] = \\t\", myAry[-1])"
      ],
      "metadata": {
        "id": "stW8Kr4fv6wJ"
      },
      "execution_count": null,
      "outputs": []
    },
    {
      "cell_type": "code",
      "source": [
        "# Modify individual elements\n",
        "\n",
        "myAry = np.arange(5)\n",
        "print(\"myAry = \\t\", myAry)\n",
        "\n",
        "myAry[0] = 10\n",
        "#myAry[1] *= 100\n",
        "#myAry[2] = 34.5789     # What if I give a float number to an integer array?\n",
        "print(\"\\nmyAry now it: \\t\", myAry)"
      ],
      "metadata": {
        "id": "WN3n5npAv6wK"
      },
      "execution_count": null,
      "outputs": []
    },
    {
      "cell_type": "code",
      "source": [
        "# Multi-dimensional array\n",
        "\n",
        "myAry = np.array([[1, 4, 9, 10],\n",
        "                  [0, 8, 7, 3],\n",
        "                  [5, 6, 2, 11]], dtype=\"float\")\n",
        "print(\"myAry = \\n\", myAry)\n",
        "\n",
        "print(\"\\nmyAry[2,1] = \", myAry[2,1])\n",
        "\n",
        "myAry[0,3] *= -1\n",
        "print(\"\\nmyAry now is: \\n\", myAry)"
      ],
      "metadata": {
        "id": "KdQDGKwewebD"
      },
      "execution_count": null,
      "outputs": []
    },
    {
      "cell_type": "code",
      "source": [
        "# A common mistake! To copy or not to copy?\n",
        "\n",
        "myAry1 = np.arange(10)\n",
        "myAry2 = myAry1\n",
        "print(\"myAry2 = \\t\", myAry2)\n",
        "\n",
        "myAry2[5] = -5\n",
        "print(\"myAry2 now is \\t\", myAry2)\n",
        "\n",
        "#print(\"myAry1 now is \\t\", myAry1)       # <-  What is the result of this?"
      ],
      "metadata": {
        "id": "tgaes7uUx6DS"
      },
      "execution_count": null,
      "outputs": []
    },
    {
      "cell_type": "markdown",
      "source": [
        "## 6) Slicing"
      ],
      "metadata": {
        "id": "furSEeGTziNt"
      }
    },
    {
      "cell_type": "code",
      "source": [
        "# Basic slicing (similar to lists)\n",
        "# https://numpy.org/doc/stable/user/basics.indexing.html\n",
        "\n",
        "myAry = np.arange(10)\n",
        "print(\"myAry = \\t\", myAry)\n",
        "\n",
        "print(\"myAry[2:7] = \\t\", myAry[2:7])      # From index 2 to 7 (endpoint not included)\n",
        "print(\"myAry[2:] = \\t\", myAry[2:])        # From index 2 to the end\n",
        "print(\"myAry[:7] = \\t\", myAry[:7])        # From the beginning to index 7\n",
        "print(\"myAry[2:7:2] = \\t\", myAry[2:7:2])  # From index 2 to 7, step length 2\n",
        "print(\"myAry[-5:-2] = \\t\", myAry[-5:-2])  # From index -5 (5th to last) to -2\n",
        "print(\"myAry[:] = \\t\", myAry[:])          # The entire array"
      ],
      "metadata": {
        "id": "0kfOygF8g2Wu"
      },
      "execution_count": null,
      "outputs": []
    },
    {
      "cell_type": "code",
      "source": [
        "# Multi-dimensional slicing\n",
        "\n",
        "myAry = np.array([[0, 1, 2, 3],\n",
        "                  [4, 5, 6, 7],\n",
        "                  [8, 9, 10, 11],\n",
        "                  [12, 13, 14, 15]])\n",
        "print(\"myAry = \\n\", myAry)\n",
        "\n",
        "print(\"\\nmyAry[1, 1:-1] = \\n\", myAry[1, 1:-1])    # Fix the first index, slicing the second\n",
        "print(\"\\nmyAry[1::2, 2] = \\n\", myAry[1::2, 2])    # Fix the second index, slicing the first\n",
        "print(\"\\nmyAry[1,:] = \\n\", myAry[1,:])            # Fix first index, return the entire second index\n",
        "print(\"\\nmyAry[:,2] = \\n\", myAry[:,2])            # Fix second index, return the entire first index\n",
        "print(\"\\nmyAry[:, ::3] = \\n\", myAry[:, ::3])      # Return the entire first index, slicing the second\n",
        "print(\"\\nmyAry[:,:] = \\n\", myAry[:,:])            # Return the entire array"
      ],
      "metadata": {
        "id": "PeOc_V49gIcA"
      },
      "execution_count": null,
      "outputs": []
    },
    {
      "cell_type": "code",
      "source": [
        "# For multi-dimensional arrays, indeces start from the *LEFT*. \n",
        "# Any missing index implies all \":\" to the right.\n",
        "\n",
        "myAry = np.array([[[0, 1, 2, 3],\n",
        "                  [4, 5, 6, 7]],\n",
        "                  [[8, 9, 10, 11],\n",
        "                  [12, 13, 14, 15]]])     # 3-D\n",
        "\n",
        "print(\"myAry = \\n\", myAry)\n",
        "print(\"\\nmyAry.shape = \", myAry.shape)\n",
        "print(\"\\nmyAry[1] = \\n\", myAry[1])        # Equivalent to myAry[1,:,:]\n",
        "print(\"\\nmyAry[1,0] = \\n\", myAry[1,0])    # Equivalent to myAry[1,0,:]"
      ],
      "metadata": {
        "id": "umegElterd_u"
      },
      "execution_count": null,
      "outputs": []
    },
    {
      "cell_type": "code",
      "source": [
        "# Sliced arrays can be modified too\n",
        "\n",
        "myAry = np.arange(10)\n",
        "print(\"myAry = \\t\", myAry)\n",
        "\n",
        "myAry[2:7] **= 2\n",
        "print(\"myAry now is: \\t\", myAry)"
      ],
      "metadata": {
        "id": "e8U8SbMmtDYI"
      },
      "execution_count": null,
      "outputs": []
    },
    {
      "cell_type": "code",
      "source": [
        "# CAUTION! Sliced arrays are references too!\n",
        "\n",
        "myAry1 = np.arange(10)\n",
        "print(\"myAry1 = \\t\", myAry1)\n",
        "\n",
        "myAry2 = myAry1[2:7]\n",
        "myAry2 **= 2\n",
        "print(\"myAry2 = \\t\", myAry2)\n",
        "\n",
        "#print(\"myAry now is: \\t\", myAry1)       # <-  What is the result of this?"
      ],
      "metadata": {
        "id": "RUSzrSZGuA2V"
      },
      "execution_count": null,
      "outputs": []
    },
    {
      "cell_type": "markdown",
      "source": [
        "<br><br>\n",
        "\n",
        "---\n",
        "# **3. Shape Manipulation**\n",
        "---"
      ],
      "metadata": {
        "id": "9WDt_iFhSobx"
      }
    },
    {
      "cell_type": "markdown",
      "source": [
        "Why change shape? Is that even important?"
      ],
      "metadata": {
        "id": "T7FgdLyY0WIZ"
      }
    },
    {
      "cell_type": "markdown",
      "source": [
        "*   Neural network training (picture <-> vector)\n",
        "> ![nn](https://github.com/lsuhpchelp/loniscworkshop2023/raw/main/day2/images/3_nn.png)\n",
        "*   Wave function propagation (multi-dimensional array <-> vector)\n",
        "> ![wavefunction](https://github.com/lsuhpchelp/loniscworkshop2023/raw/main/day2/images/3_wavefunction.gif)\n",
        "[Li and Thumm, Phys. Rev. A **101**, 013411](https://doi.org/10.1103/PhysRevA.101.013411)\n",
        "*   ..."
      ],
      "metadata": {
        "id": "P_TJBU8q6xc4"
      }
    },
    {
      "cell_type": "markdown",
      "source": [
        "## 1) Preparation: Understanding ***Axis***"
      ],
      "metadata": {
        "id": "zauhyozs1ECn"
      }
    },
    {
      "cell_type": "markdown",
      "source": [
        "![axis](https://github.com/lsuhpchelp/loniscworkshop2023/raw/main/day2/images/3_1_axis.png)"
      ],
      "metadata": {
        "id": "3oe5LhPw2YB5"
      }
    },
    {
      "cell_type": "markdown",
      "source": [
        "## 2) Get Shape Properties"
      ],
      "metadata": {
        "id": "kQTDuoyP1f_p"
      }
    },
    {
      "cell_type": "code",
      "execution_count": null,
      "metadata": {
        "id": "ljOku4IDDb_3"
      },
      "outputs": [],
      "source": [
        "# Three most frequently used attributes\n",
        "# ndarry.shape : Return a tuple of array dimensions https://numpy.org/doc/stable/reference/generated/numpy.ndarray.shape.html\n",
        "# ndarry.size : Return total number of elements in the array https://numpy.org/doc/stable/reference/generated/numpy.ndarray.size.html\n",
        "# ndarry.ndim : Return number of array dimensions https://numpy.org/doc/stable/reference/generated/numpy.ndarray.ndim.html\n",
        "\n",
        "myAry = np.array([[0, 1, 2, 3],\n",
        "                  [4, 5, 6, 7],\n",
        "                  [8, 9, 10, 11]])\n",
        "\n",
        "print(\"myAry.shape = \\t\", myAry.shape)\n",
        "print(\"myAry.size = \\t\", myAry.size)\n",
        "print(\"myAry.ndim = \\t\", myAry.ndim)"
      ]
    },
    {
      "cell_type": "markdown",
      "source": [
        "## 3) Reshape an Array"
      ],
      "metadata": {
        "id": "MkweV-jd1jBu"
      }
    },
    {
      "cell_type": "code",
      "source": [
        "# Reshape (size must match)\n",
        "\n",
        "myAry = np.arange(12)\n",
        "print(\"myAry = \\n\", myAry)\n",
        "\n",
        "# Method 1: Change ndarry.shape attribute directly.\n",
        "# This is *in-place*.\n",
        "myAry.shape = (3,4)               \n",
        "print(\"\\nmyAry now is: \\n\", myAry)\n",
        "\n",
        "# Method 2: Use ndarry.reshape() method. \n",
        "# https://numpy.org/doc/stable/reference/generated/numpy.ndarray.reshape.html \n",
        "# This *returns* the result \n",
        "myAry = myAry.reshape(2,3,2)\n",
        "print(\"\\nmyAry now is: \\n\", myAry)\n",
        "\n",
        "# What if size does not match?\n",
        "#myAry.shape = (3,5)\n",
        "\n",
        "# Useful if you want to avoid doing something nasty"
      ],
      "metadata": {
        "id": "JLbhuE-h07pJ"
      },
      "execution_count": null,
      "outputs": []
    },
    {
      "cell_type": "code",
      "source": [
        "# I am lazy: Let NumPy figure out the rest\n",
        "\n",
        "myAry = np.arange(12)\n",
        "print(\"myAry = \\n\", myAry)\n",
        "\n",
        "print(\"\\nmyAry now is: \\n\", myAry.reshape(2, -1))"
      ],
      "metadata": {
        "id": "Xqzfy5ju8n0O"
      },
      "execution_count": null,
      "outputs": []
    },
    {
      "cell_type": "code",
      "source": [
        "# Resize (size can mismatch)\n",
        "# https://numpy.org/doc/stable/reference/generated/numpy.ndarray.resize.html\n",
        "\n",
        "myAry = np.arange(12)\n",
        "print(\"myAry =\\n\", myAry)\n",
        "\n",
        "# This is *in-place* (unlike ndarry.reshape())\n",
        "myAry.resize(3,5)                     # Larger size -> Will pad\n",
        "print(\"\\nmyAry now is: \\n\", myAry)\n",
        "myAry.resize(2,5)                     # Smaller size -> Will truncate\n",
        "print(\"\\nmyAry now is: \\n\", myAry)\n",
        "\n",
        "# Useful if padding / truncating is intended"
      ],
      "metadata": {
        "id": "3EFxQEBi34qB"
      },
      "execution_count": null,
      "outputs": []
    },
    {
      "cell_type": "code",
      "source": [
        "# Other useful shape manipulation\n",
        "\n",
        "myAry = np.arange(12).reshape(3,4)\n",
        "print(\"myAry =\\n\", myAry)\n",
        "\n",
        "# Transpose (This *returns* the result)\n",
        "# https://numpy.org/doc/stable/reference/generated/numpy.ndarray.transpose.html\n",
        "# https://numpy.org/doc/stable/reference/generated/numpy.ndarray.T.html  \n",
        "myAry = myAry.transpose()\n",
        "#myAry = myAry.T\n",
        "print(\"\\nmyAry now is: \\n\", myAry)\n",
        "\n",
        "# Flatten (This *returns* the result)\n",
        "# https://numpy.org/doc/stable/reference/generated/numpy.ndarray.flatten.html\n",
        "myAry = myAry.flatten()\n",
        "print(\"\\nmyAry now is: \\n\", myAry)"
      ],
      "metadata": {
        "id": "jOv4tHaY6ZEs"
      },
      "execution_count": null,
      "outputs": []
    },
    {
      "cell_type": "markdown",
      "source": [
        "<br><br>\n",
        "\n",
        "---\n",
        "# **4. Faster with NumPy: Advanced Array Operations**\n",
        "---"
      ],
      "metadata": {
        "id": "qXqEQv5cdFRq"
      }
    },
    {
      "cell_type": "markdown",
      "source": [
        "Example: Add 5 to each element of an integer array of size 100,000"
      ],
      "metadata": {
        "id": "J9MPIttY57W2"
      }
    },
    {
      "cell_type": "code",
      "source": [
        "#@markdown * How to do that with lists?\n",
        "\n",
        "myList1 = list(range(100000))\n",
        "myList2 = [val+5 for val in myList1]\n",
        "print(\"Result: \\n\", myList2)"
      ],
      "metadata": {
        "cellView": "form",
        "id": "fDNADjrrWYMr"
      },
      "execution_count": null,
      "outputs": []
    },
    {
      "cell_type": "code",
      "source": [
        "#@markdown * How to do that with NumPy arrays?\n",
        "\n",
        "myAry1 = np.arange(100000)\n",
        "myAry2 = myAry1 + 5\n",
        "print(\"Result: \\n\", myAry2)"
      ],
      "metadata": {
        "id": "xthwWrilXDoY",
        "cellView": "form"
      },
      "execution_count": null,
      "outputs": []
    },
    {
      "cell_type": "code",
      "source": [
        "#@markdown - Which one is faster?\n",
        "\n",
        "# Use the magic word: %timeit  (works for IPython & Jupyter notebooks)\n",
        "# Don't worry if you do not know it\n",
        "\n",
        "myList1 = list(range(100000))\n",
        "tList = %timeit -o myList2 = [val+5 for val in myList1]\n",
        "\n",
        "myAry1 = np.arange(100000)\n",
        "tAry = %timeit -o myAry2 = myAry1 + 5\n",
        "\n",
        "speedup = tList.average / tAry.average\n",
        "print(\"Speedup = %.1f times\" % (speedup))"
      ],
      "metadata": {
        "cellView": "form",
        "id": "APHk3yaokAzC"
      },
      "execution_count": null,
      "outputs": []
    },
    {
      "cell_type": "markdown",
      "source": [
        "## ***Rule of Thumb***: \n",
        "\n",
        "**Avoiding using loops, as you would avoid fire!!!**\n",
        "\n",
        "↑↑↑ ( Take-home message ) ↑↑↑ "
      ],
      "metadata": {
        "id": "9FqrKfzioThs"
      }
    },
    {
      "cell_type": "markdown",
      "source": [
        "Why is it faster with NumPy?\n",
        "\n",
        "- Avoid type check overhead\n",
        "- Vectorization (simplified)\n",
        " - Instead of looping through array sequentially, NumPy distributes the task to multiple cores and running parallelly, making it N times faster (N is the numebr of used cores)\n",
        "- Many of the built-in functions are implemented in compiled C code.\n",
        " - They can be much faster than the code on the Python level"
      ],
      "metadata": {
        "id": "O6_Tgb2ss-KR"
      }
    },
    {
      "cell_type": "markdown",
      "source": [
        "## 1) Universal Functions (ufunc)"
      ],
      "metadata": {
        "id": "TnthNJS-4V1h"
      }
    },
    {
      "cell_type": "markdown",
      "source": [
        "Available ufuncs:\n",
        "* Arithmetic operators \n",
        " * `+`, `-`, `*`, `/ `\n",
        " * `**` (power), `//` (integer division), `%` (modulus)\n",
        "* Bitwise operators\n",
        " * `&` (AND), `|` (OR), `^` (XOR), `~` (NOT)\n",
        " * `<<` (left shift), `>>` (right shift)\n",
        "* Assignment operators\n",
        " * w/ arithmetic: `+=`, `-=`, `*=`, `/=`, `**=`, `//=`, `%=`\n",
        " * w/ bitwise: `&=`, `^=`, `|=`, `~=`, `<<=`, `>>=`\n",
        "* Comparison operators \n",
        " * `>`, `<`, `>=`, `<=`, `==`, `!=`, `<>` \n",
        "* Mathematical functions\n",
        " * `np.sin()`, `np.cos()`, `np.tan()` ...\n",
        " * `np.exp()`, `np.log()`, `np.log10()` ...\n",
        " * `np.abs()`, `np.sqrt()` ...\n",
        "* Special Functions\n",
        " * `scipy.special.*`\n",
        "* . . . and many, many more."
      ],
      "metadata": {
        "id": "faknTfMPzYeU"
      }
    },
    {
      "cell_type": "markdown",
      "source": [
        "### a) Examples"
      ],
      "metadata": {
        "id": "gm_B5V9xSiik"
      }
    },
    {
      "cell_type": "code",
      "source": [
        "# Arithmetic operators\n",
        "\n",
        "a = np.arange(10)\n",
        "b = np.arange(10, 20)\n",
        "print(\"  a \\t = \", a)\n",
        "print(\"  b \\t = \", b)\n",
        "\n",
        "print(\"a + b \\t = \", a + b)     # array & array\n",
        "print(\"2 ** a \\t = \", 2 ** a)   # array & scalar"
      ],
      "metadata": {
        "id": "7xYgmdHV2mEZ"
      },
      "execution_count": null,
      "outputs": []
    },
    {
      "cell_type": "code",
      "source": [
        "# Bitwise operators\n",
        "\n",
        "a = np.array([1, 2, 4, 8, 16])\n",
        "b = np.arange(5)\n",
        "print(\"  a \\t = \", a)\n",
        "print(\"  b \\t = \", b)\n",
        "\n",
        "print(\"a | b \\t = \", a | b)     # array & array\n",
        "print(\"a << 1 \\t = \", a << 1)   # array & scalar\n",
        "print(\"  ~a \\t = \", ~a)         # Not"
      ],
      "metadata": {
        "id": "dvvpcs5NT8Lo"
      },
      "execution_count": null,
      "outputs": []
    },
    {
      "cell_type": "code",
      "source": [
        "# Assignment operators\n",
        "\n",
        "a = np.arange(10)\n",
        "b = np.arange(10, 20)\n",
        "print(\"  a \\t = \", a)\n",
        "print(\"  b \\t = \", b)\n",
        "\n",
        "a += b        # array & array\n",
        "b %= 2        # array & scalar\n",
        "\n",
        "print(\"New a \\t = \", a)\n",
        "print(\"New b \\t = \", b)"
      ],
      "metadata": {
        "id": "0lt0Mbd1U9TK"
      },
      "execution_count": null,
      "outputs": []
    },
    {
      "cell_type": "code",
      "source": [
        "# Comparison operators\n",
        "\n",
        "a = np.arange(10)\n",
        "b = np.arange(10, 0, -1)\n",
        "print(\"  a \\t = \", a)\n",
        "print(\"  b \\t = \", b)\n",
        "\n",
        "print(\"a >= b \\t : \", a >= b)   # array & array\n",
        "print(\"a == 5 \\t : \", a == 5)   # array & scalar"
      ],
      "metadata": {
        "id": "OQr5y1ouWMd9"
      },
      "execution_count": null,
      "outputs": []
    },
    {
      "cell_type": "code",
      "source": [
        "# Trigonometric & exponential functions\n",
        "\n",
        "x = np.linspace(0, 2*np.pi, 100)\n",
        "\n",
        "y = np.sin(x)           # Pass the entire array as argument\n",
        "print(\"  y = \\n\", y)\n",
        "\n",
        "# Let's plot it!\n",
        "import matplotlib.pyplot as plt\n",
        "plt.plot(x,y)\n",
        "plt.show()"
      ],
      "metadata": {
        "id": "ts6LV74cXd88"
      },
      "execution_count": null,
      "outputs": []
    },
    {
      "cell_type": "code",
      "source": [
        "# Special functions: Spherical Bessel Function of the 1st kind j_n\n",
        "# https://docs.scipy.org/doc/scipy/reference/special.html\n",
        "\n",
        "x = np.linspace(0, 20, 100)\n",
        "\n",
        "import scipy\n",
        "y = scipy.special.spherical_jn(0, x)  # Pass the entire array as argument\n",
        "print(\"  y = \\n\", y)\n",
        "\n",
        "# Let's plot it!\n",
        "import matplotlib.pyplot as plt\n",
        "plt.plot(x,y)\n",
        "plt.show()"
      ],
      "metadata": {
        "id": "HqcCZJGYYj0m"
      },
      "execution_count": null,
      "outputs": []
    },
    {
      "cell_type": "markdown",
      "source": [
        "### *) A Practice with a Practical Problem (Part 1)\n",
        "\n",
        "![4_1_problem_pt1](https://github.com/lsuhpchelp/loniscworkshop2023/raw/main/day2/images/4_1_problem_pt1.png)\n",
        "\n",
        "**!!CAUTION!!**\n",
        "\n",
        "* Use ufunc for efficiency\n",
        "* Do **NOT** use loop even if you are attempted to!!"
      ],
      "metadata": {
        "id": "Ql_4y206P3i_"
      }
    },
    {
      "cell_type": "markdown",
      "source": [
        "You may be attempted to do something like this:\n",
        "\n",
        "(This is slow!)\n",
        "\n",
        "```\n",
        "r = ...\n",
        "\n",
        "psi_r = np.empty(1000, dtype=\"float\")\n",
        "for i in range(1000):\n",
        "  psi_r[i] = r[i]**2 * np.exp(-r[i]/3)\n",
        "```\n",
        "\n"
      ],
      "metadata": {
        "id": "ANAzOgppQdUB"
      }
    },
    {
      "cell_type": "markdown",
      "source": [
        "Instead, remember `*`, `**`, `np.exp()`, `np.sin()`, `np.cos()` are all ufuncs!"
      ],
      "metadata": {
        "id": "exMXFrIbRVOj"
      }
    },
    {
      "cell_type": "code",
      "source": [
        "# Hint: If you wrote more than one line for each \"FIX ME\", you are doing something wrong\n",
        "\n",
        "import numpy as np\n",
        "\n",
        "# Define coordinates\n",
        "# Hint: Use np.linspace()\n",
        "r = # FIX ME\n",
        "theta = # FIX ME\n",
        "phi = # FIX ME\n",
        "\n",
        "# Calculate function on each dimension\n",
        "# Hint: Use ufunc np.exp(), np.sin(), np.cos(); imaginary unit is \"1j\"\n",
        "psi_r = # FIX ME\n",
        "psi_theta = # FIX ME\n",
        "psi_phi = # FIX ME\n",
        "print(\"psi_r.shape = \\t\\t\", psi_r.shape)\n",
        "print(\"psi_theta.shape = \\t\", psi_theta.shape)\n",
        "print(\"psi_phi.shape = \\t\", psi_phi.shape)"
      ],
      "metadata": {
        "id": "Ulpb3wpmRrF8"
      },
      "execution_count": null,
      "outputs": []
    },
    {
      "cell_type": "code",
      "source": [
        "#@markdown Show solution\n",
        "\n",
        "import numpy as np\n",
        "\n",
        "# Define coordinates\n",
        "r = np.linspace(0, 40, 1000)\n",
        "theta = np.linspace(0, np.pi, 300)\n",
        "phi = np.linspace(0, 2*np.pi, 600)\n",
        "\n",
        "# Calculate function on each dimension\n",
        "psi_r = r**2 * np.exp(-r/3)\n",
        "psi_theta = np.sin(theta) * np.cos(theta)\n",
        "psi_phi = np.exp(1j*phi)\n",
        "print(\"psi_r.shape = \\t\\t\", psi_r.shape)\n",
        "print(\"psi_theta.shape = \\t\", psi_theta.shape)\n",
        "print(\"psi_phi.shape = \\t\", psi_phi.shape)"
      ],
      "metadata": {
        "cellView": "form",
        "id": "ooB7PW2eRrF8"
      },
      "execution_count": null,
      "outputs": []
    },
    {
      "cell_type": "markdown",
      "source": [
        "## 2) Broadcasting"
      ],
      "metadata": {
        "id": "_p6Coa_f4ZHq"
      }
    },
    {
      "cell_type": "markdown",
      "source": [
        "### a) What is Broadcasting?\n",
        "**Definition**: Describes the way NumPy treats arrays with ***different shapes*** during arithmetic operations.\n",
        "\n",
        "(See: https://numpy.org/doc/stable/user/basics.broadcasting.html)"
      ],
      "metadata": {
        "id": "x_DDQXfpkvqJ"
      }
    },
    {
      "cell_type": "code",
      "source": [
        "# We saw this before (array & scalr):\n",
        "\n",
        "a = np.arange(10)\n",
        "print(\"  a \\t = \", a)\n",
        "print(\"a + 2 \\t = \", a + 2)\n",
        "\n",
        "# Makes sense."
      ],
      "metadata": {
        "id": "A8JPUsKzmGoI"
      },
      "execution_count": null,
      "outputs": []
    },
    {
      "cell_type": "code",
      "source": [
        "# But some cases make no sense...\n",
        "\n",
        "a = np.arange(12).reshape(2,2,3,1)\n",
        "b = np.arange(12).reshape(3,4)\n",
        "\n",
        "print(\"a = \\n\", a)\n",
        "print(\"\")\n",
        "print(\"b = \\n\", b)\n",
        "print(\"\")\n",
        "\n",
        "print(\"a + b = \\n\", a + b)\n",
        "print(\"Shape is: \\n\", (a+b).shape)\n",
        "\n",
        "# How is NumPy even able to add these two?"
      ],
      "metadata": {
        "id": "3r6gXkmLxycg"
      },
      "execution_count": null,
      "outputs": []
    },
    {
      "cell_type": "markdown",
      "source": [
        "### b) Basic Rules\n",
        "\n",
        "How does broadcasting work in general? Use the above example:\n",
        "\n",
        "![4_2_broadcasting_def1](https://github.com/lsuhpchelp/loniscworkshop2023/raw/main/day2/images/4_2_broadcasting_def1.png)"
      ],
      "metadata": {
        "id": "POgeEiE3om6P"
      }
    },
    {
      "cell_type": "markdown",
      "source": [
        "![4_2_broadcasting_def2](https://github.com/lsuhpchelp/loniscworkshop2023/raw/main/day2/images/4_2_broadcasting_def2.png)\n",
        "\n",
        "![4_2_broadcasting_def3](https://github.com/lsuhpchelp/loniscworkshop2023/raw/main/day2/images/4_2_broadcasting_def3.png)"
      ],
      "metadata": {
        "id": "a0eer91YTp-I"
      }
    },
    {
      "cell_type": "markdown",
      "source": [
        "### c) More Examples"
      ],
      "metadata": {
        "id": "mMthgSGounlI"
      }
    },
    {
      "cell_type": "markdown",
      "source": [
        "#### ![4_2_broadcasting_eg1](https://github.com/lsuhpchelp/loniscworkshop2023/raw/main/day2/images/4_2_broadcasting_eg1.png)"
      ],
      "metadata": {
        "id": "ewwMD690zy-Z"
      }
    },
    {
      "cell_type": "markdown",
      "source": [
        "![4_2_broadcasting_eg1_sol1](https://github.com/lsuhpchelp/loniscworkshop2023/raw/main/day2/images/4_2_broadcasting_eg1_sol1.png)\n",
        "\n",
        "![4_2_broadcasting_eg1_sol2](https://github.com/lsuhpchelp/loniscworkshop2023/raw/main/day2/images/4_2_broadcasting_eg1_sol2.png)\n",
        "\n",
        "![4_2_broadcasting_eg1_sol3](https://github.com/lsuhpchelp/loniscworkshop2023/raw/main/day2/images/4_2_broadcasting_eg1_sol3.png)"
      ],
      "metadata": {
        "id": "uMJazR8H1SrD"
      }
    },
    {
      "cell_type": "code",
      "source": [
        "a = np.ones((3,3))\n",
        "b = np.arange(3)\n",
        "\n",
        "print(\"a = \\n\", a)\n",
        "print(\"\")\n",
        "print(\"b = \\n\", b)\n",
        "print(\"\")\n",
        "print(\"a + b = \\n\", a + b)"
      ],
      "metadata": {
        "id": "jsxkdxDmkvFT"
      },
      "execution_count": null,
      "outputs": []
    },
    {
      "cell_type": "markdown",
      "source": [
        "#### ![4_2_broadcasting_eg2](https://github.com/lsuhpchelp/loniscworkshop2023/raw/main/day2/images/4_2_broadcasting_eg2.png)"
      ],
      "metadata": {
        "id": "uwts-bcQXRg6"
      }
    },
    {
      "cell_type": "markdown",
      "source": [
        "![4_2_broadcasting_eg2_sol1](https://github.com/lsuhpchelp/loniscworkshop2023/raw/main/day2/images/4_2_broadcasting_eg2_sol1.png)\n",
        "\n",
        "![4_2_broadcasting_eg2_sol2](https://github.com/lsuhpchelp/loniscworkshop2023/raw/main/day2/images/4_2_broadcasting_eg2_sol2.png)\n",
        "\n",
        "![4_2_broadcasting_eg2_sol3](https://github.com/lsuhpchelp/loniscworkshop2023/raw/main/day2/images/4_2_broadcasting_eg2_sol3.png)"
      ],
      "metadata": {
        "id": "zxM1KKT1YuFi"
      }
    },
    {
      "cell_type": "code",
      "source": [
        "a = np.ones((3,3))\n",
        "b = np.arange(3).reshape(3,1)\n",
        "\n",
        "print(\"a = \\n\", a)\n",
        "print(\"\")\n",
        "print(\"b = \\n\", b)\n",
        "print(\"\")\n",
        "print(\"a + b = \\n\", a + b)"
      ],
      "metadata": {
        "id": "8WhMj8NV5N9R"
      },
      "execution_count": null,
      "outputs": []
    },
    {
      "cell_type": "markdown",
      "source": [
        "#### ![4_2_broadcasting_eg3](https://github.com/lsuhpchelp/loniscworkshop2023/raw/main/day2/images/4_2_broadcasting_eg3.png)"
      ],
      "metadata": {
        "id": "KssPB6uldlmb"
      }
    },
    {
      "cell_type": "markdown",
      "source": [
        "![4_2_broadcasting_eg3_sol1](https://github.com/lsuhpchelp/loniscworkshop2023/raw/main/day2/images/4_2_broadcasting_eg3_sol1.png)\n",
        "\n",
        "![4_2_broadcasting_eg3_sol2](https://github.com/lsuhpchelp/loniscworkshop2023/raw/main/day2/images/4_2_broadcasting_eg3_sol2.png)"
      ],
      "metadata": {
        "id": "7oM9Zrdadlmc"
      }
    },
    {
      "cell_type": "code",
      "source": [
        "a = np.ones((3,2))\n",
        "b = np.arange(3)\n",
        "\n",
        "print(\"a = \\n\", a)\n",
        "print(\"\")\n",
        "print(\"b = \\n\", b)\n",
        "print(\"\")\n",
        "print(\"a + b = \\n\", a + b)"
      ],
      "metadata": {
        "id": "EihGhO6hdlmd"
      },
      "execution_count": null,
      "outputs": []
    },
    {
      "cell_type": "markdown",
      "source": [
        "### *) A Practice with a Practical Problem (Part 2)\n",
        "\n",
        "![4_2_problem_pt2](https://github.com/lsuhpchelp/loniscworkshop2023/raw/main/day2/images/4_2_problem_pt2.png)\n",
        "\n",
        "**!!CAUTION!!**\n",
        "\n",
        "* Use broadcasting for efficiency\n",
        "* Do **NOT** use loop even if you are attempted to!!"
      ],
      "metadata": {
        "id": "63hn7tmu86Th"
      }
    },
    {
      "cell_type": "markdown",
      "source": [
        "You may be attempted to do this:\n",
        "\n",
        "(This is horribly slow!)\n",
        "\n",
        "```\n",
        "psi_r = ...\n",
        "psi_theta = ...\n",
        "psi_phi = ...\n",
        "\n",
        "psi = np.empty((1000, 300, 600), dtype=\"complex\")\n",
        "for i in range(1000):\n",
        "  for j in range(300):\n",
        "    for k in range(600):\n",
        "      psi[i,j,k] = psi_r[i] * psi_theta[j] * psi_phi[k]\n",
        "```\n",
        "\n"
      ],
      "metadata": {
        "id": "f_21PFfY33kw"
      }
    },
    {
      "cell_type": "markdown",
      "source": [
        "Instead, remember how broadcasting works:\n",
        "\n",
        "![4_2_problem_pt2_sol1](https://github.com/lsuhpchelp/loniscworkshop2023/raw/main/day2/images/4_2_problem_pt2_sol1.png)\n",
        "\n",
        "![4_2_problem_pt2_sol2](https://github.com/lsuhpchelp/loniscworkshop2023/raw/main/day2/images/4_2_problem_pt2_sol2.png)\n",
        "\n",
        "![4_2_problem_pt2_sol3](https://github.com/lsuhpchelp/loniscworkshop2023/raw/main/day2/images/4_2_problem_pt2_sol3.png)"
      ],
      "metadata": {
        "id": "H3eCKX41jW7u"
      }
    },
    {
      "cell_type": "markdown",
      "source": [
        "Finish the code below as a practice:"
      ],
      "metadata": {
        "id": "KJlnuzk56bRh"
      }
    },
    {
      "cell_type": "code",
      "source": [
        "# Hint: If you used more than one line for each \"FIX ME\", you are doing something wrong\n",
        "\n",
        "import numpy as np\n",
        "\n",
        "# Define coordinates\n",
        "# Hint: Use np.linspace()\n",
        "r = # FIX ME\n",
        "theta = # FIX ME\n",
        "phi = # FIX ME\n",
        "\n",
        "# Calculate function on each dimension\n",
        "# Hint: Use ufunc np.exp(), np.sin(), np.cos(); imaginary unit is \"1j\"\n",
        "psi_r = # FIX ME\n",
        "psi_theta = # FIX ME\n",
        "psi_phi = # FIX ME\n",
        "print(\"psi_r.shape = \\t\\t\", psi_r.shape)\n",
        "print(\"psi_theta.shape = \\t\", psi_theta.shape)\n",
        "print(\"psi_phi.shape = \\t\", psi_phi.shape)\n",
        "\n",
        "# Multiply three 1-D arrays to make a 3-D array:\n",
        "# Hint: Use reshape() and broadcasting\n",
        "psi = # FIX ME\n",
        "print(\"psi.shape = \\t\", psi.shape)"
      ],
      "metadata": {
        "id": "1RIlERVjjkPV"
      },
      "execution_count": null,
      "outputs": []
    },
    {
      "cell_type": "code",
      "source": [
        "#@markdown Show solution\n",
        "\n",
        "import numpy as np\n",
        "\n",
        "# Define coordinates\n",
        "r = np.linspace(0, 40, 1000)\n",
        "theta = np.linspace(0, np.pi, 300)\n",
        "phi = np.linspace(0, 2*np.pi, 600)\n",
        "\n",
        "# Calculate function on each dimension\n",
        "psi_r = r**2 * np.exp(-r/3)\n",
        "psi_theta = np.sin(theta) * np.cos(theta)\n",
        "psi_phi = np.exp(1j*phi)\n",
        "print(\"psi_r.shape = \\t\\t\", psi_r.shape)\n",
        "print(\"psi_theta.shape = \\t\", psi_theta.shape)\n",
        "print(\"psi_phi.shape = \\t\", psi_phi.shape)\n",
        "\n",
        "# Multiply three 1-D arrays to make a 3-D array:\n",
        "psi = psi_r.reshape(1000,1,1) * psi_theta.reshape(300,1) * psi_phi\n",
        "print(\"psi.shape = \\t\", psi.shape)"
      ],
      "metadata": {
        "id": "abSthC5ll0eT",
        "cellView": "form"
      },
      "execution_count": null,
      "outputs": []
    },
    {
      "cell_type": "code",
      "source": [
        "#@markdown Wanna see how horribly slow looping is? You do not even need %timeit!\n",
        "for i in range(1000):\n",
        "  for j in range(300):\n",
        "    for k in range(600):\n",
        "      psi[i,j,k] = psi_r[i] * psi_theta[j] * psi_phi[k]\n",
        "\n",
        "# Took me > 11 min on Google Colab!"
      ],
      "metadata": {
        "id": "caErZIIk5XDZ",
        "cellView": "form"
      },
      "execution_count": null,
      "outputs": []
    },
    {
      "cell_type": "markdown",
      "source": [
        "## 3) Aggregation Functions"
      ],
      "metadata": {
        "id": "t9v9Y51q4s6_"
      }
    },
    {
      "cell_type": "markdown",
      "source": [
        "* Aggregations are functions which summarize the values in an array (e.g. min, max, sum, mean, etc.)\n",
        "* Numpy aggregations are much faster than Python built-in functions\n",
        "* Available functions:\n",
        "  * Sort, search and counting\n",
        "    * `min()`, `max()`, `argmin()`, `argmax()`, ...\n",
        "    * `sum()`, `prod()` (calculate product instead of sum), ...\n",
        "    * `sort()`, ...\n",
        "  * Statistics\n",
        "    * `mean()` (arithmetic average), `average()` (weighted average), `median()` (median value), ...\n",
        "    * `var()` (variance), `std()` (standard deviation, square root of variance), ...\n",
        "  * . . . and many, many more.\n",
        "* The specific syntax are different for different functions. Here we just give you a glimpse how they work. For details, see https://numpy.org/doc/stable/reference/routines.html"
      ],
      "metadata": {
        "id": "JhJC43_QSX3g"
      }
    },
    {
      "cell_type": "markdown",
      "source": [
        "### a) Examples"
      ],
      "metadata": {
        "id": "ZTXX9V75YUn8"
      }
    },
    {
      "cell_type": "code",
      "source": [
        "# Basic usage. (E.g.: sum())\n",
        "\n",
        "myAry = np.arange(9).reshape(3,3)\n",
        "print(\"myAry = \\n\", myAry)\n",
        "\n",
        "# Two ways to use (works for most of them):\n",
        "print(\"\\nnp.sum(myAry) = \", np.sum(myAry))  # As a function\n",
        "print(\"\\nmyAry.sum() = \", myAry.sum())      # As a method"
      ],
      "metadata": {
        "id": "mv5Kc7iAoJnz"
      },
      "execution_count": null,
      "outputs": []
    },
    {
      "cell_type": "code",
      "source": [
        "# Sometimes, function and method forms work slightly differently (E.g., sort())\n",
        "\n",
        "myAry = np.random.random(10)  # Create an array of random values\n",
        "print(\"myAry = \\n\", myAry)\n",
        "\n",
        "# As function: *Returns* the result\n",
        "print(\"\\nnp.sort(myAry) = \\n\", np.sort(myAry))\n",
        "\n",
        "# As method: *in-place*\n",
        "myAry.sort()\n",
        "print(\"\\nmyAry.sort() = \\n\", myAry)"
      ],
      "metadata": {
        "id": "qCNbZLg7rFnO"
      },
      "execution_count": null,
      "outputs": []
    },
    {
      "cell_type": "code",
      "source": [
        "# Specifying axes\n",
        "\n",
        "myAry = np.arange(9).reshape(3,3)\n",
        "print(\"myAry = \\n\", myAry)\n",
        "\n",
        "print(\"\\nmyAry.sum() = \\n\", myAry.sum())              # Sum all\n",
        "print(\"\\nmyAry.sum(axis=0) = \\n\", myAry.sum(axis=0))  # Sum axis 0 (rows), keep axis 1 (columns)\n",
        "print(\"\\nmyAry.sum(axis=1) = \\n\", myAry.sum(axis=1))  # Sum axis 1 (columns), keep axis 0 (rows)"
      ],
      "metadata": {
        "id": "m72EzCofpLze"
      },
      "execution_count": null,
      "outputs": []
    },
    {
      "cell_type": "code",
      "source": [
        "# Return results or arguments (indeces)\n",
        "\n",
        "myAry = np.random.random(10)  # Create an array of random values\n",
        "print(\"myAry = \\n\", myAry)\n",
        "\n",
        "print(\"\\nmyAry.max() = \\t\", myAry.max())        # Return the maximum value\n",
        "print(\"\\nmyAry.argmax() = \\t\", myAry.argmax())  # Returns the argument (index) that contains the maximum value"
      ],
      "metadata": {
        "id": "ddYhwjQ5qTC0"
      },
      "execution_count": null,
      "outputs": []
    },
    {
      "cell_type": "code",
      "source": [
        "# Let's try some statistics\n",
        "\n",
        "myAry = np.arange(10).reshape(2,5)\n",
        "print(\"myAry = \\n\", myAry)\n",
        "\n",
        "# Arithmetic average\n",
        "print(\"\\nArithmetic average: \\n\", myAry.mean())\n",
        "print(\"\\nArithmetic average over the column: \\n\", myAry.mean(axis=1))\n",
        "\n",
        "# Weighted average\n",
        "# average() does not have method form *\n",
        "weightAry = np.random.random(myAry.shape)   # A random weight array of the same shape\n",
        "weightAry /= weightAry.sum()                # Normalize weight (should add up to 1)\n",
        "print(\"\\nWeighted average: \\n\", np.average(myAry, weights=weightAry))\n",
        "\n",
        "# Standard deviation\n",
        "print(\"\\nStandard deviation: \\n\", myAry.std())\n",
        "print(\"\\nStandard deviation over the column: \\n\", myAry.std(axis=1))"
      ],
      "metadata": {
        "id": "OYdnyaq4stpo"
      },
      "execution_count": null,
      "outputs": []
    },
    {
      "cell_type": "markdown",
      "source": [
        "### *) A Practice with a Practical Problem (Part 3)\n",
        "\n",
        "#### ![4_3_problem_pt3](https://github.com/lsuhpchelp/loniscworkshop2023/raw/main/day2/images/4_3_problem_pt3.png)\n",
        "\n",
        "**!!CAUTION!!**\n",
        "\n",
        "* Use aggregation functions for efficiency\n",
        "* Do **NOT** use loop even if you are attempted to!!"
      ],
      "metadata": {
        "id": "BE0L6gd5oTgO"
      }
    },
    {
      "cell_type": "markdown",
      "source": [
        "You may be attempted to do something like this:\n",
        "\n",
        "(This is slow!)\n",
        "\n",
        "```\n",
        "P_r_max = 0\n",
        "r_index = 0\n",
        "for i in range(1000):\n",
        "  # Find the index corresponding to maximum probability and corresponding index using a loop\n",
        "```\n",
        "\n"
      ],
      "metadata": {
        "id": "8fDEshHgxpmW"
      }
    },
    {
      "cell_type": "markdown",
      "source": [
        "Instead, use aggregation functions!"
      ],
      "metadata": {
        "id": "pvuoLKCWxpmX"
      }
    },
    {
      "cell_type": "code",
      "source": [
        "# Hint: If you wrote more than one line for each \"FIX ME\", you are doing something wrong\n",
        "\n",
        "import numpy as np\n",
        "\n",
        "# Define coordinates\n",
        "# Hint: Use np.linspace()\n",
        "r = # FIX ME\n",
        "\n",
        "# Calculate function on each dimension\n",
        "# Hint: Use ufunc np.exp()\n",
        "psi_r = # FIX ME\n",
        "\n",
        "# Calculate probability distribution\n",
        "# For simplicity, first calculate without dividing by the normalization factor, then do the normalization\n",
        "# Hint: Use np.sum(), np.abs() and other ufuncs\n",
        "P = # FIX ME\n",
        "P /= # FIX ME\n",
        "\n",
        "# Find the most probably radius (You result should be close to 9)\n",
        "# Hint: Use aggregation function argmax()\n",
        "r_max = # FIX ME\n",
        "\n",
        "print(\"3rd Bohr radius is:\", r_max)"
      ],
      "metadata": {
        "id": "ALheFWoBxpmX"
      },
      "execution_count": null,
      "outputs": []
    },
    {
      "cell_type": "code",
      "source": [
        "#@markdown Show solution\n",
        "\n",
        "import numpy as np\n",
        "\n",
        "# Define coordinates\n",
        "r = np.linspace(0, 40, 1000)\n",
        "\n",
        "# Calculate function on each dimension\n",
        "psi_r = r**2 * np.exp(-r/3)\n",
        "\n",
        "# Calculate probability distribution\n",
        "# For simplicity, first calculate without dividing by the normalization factor, then do the normalization\n",
        "P = r**2 * np.abs(psi_r)**2 \n",
        "P /= P.sum()\n",
        "\n",
        "# Find the most probably radius. (You result should be close to 9)\n",
        "r_max = r[P.argmax()]\n",
        "\n",
        "print(\"3rd Bohr radius is:\", r_max)"
      ],
      "metadata": {
        "id": "52Y6hc7n0ACq",
        "cellView": "form"
      },
      "execution_count": null,
      "outputs": []
    },
    {
      "cell_type": "markdown",
      "source": [
        "## 4) Advanced Indexing"
      ],
      "metadata": {
        "id": "EY-lSvC944St"
      }
    },
    {
      "cell_type": "markdown",
      "source": [
        "We saw basic indexing and slicing before. But there is more...\n",
        "\n",
        "https://numpy.org/doc/stable/user/basics.indexing.html#advanced-indexing"
      ],
      "metadata": {
        "id": "QbpAXCuSS9Bt"
      }
    },
    {
      "cell_type": "markdown",
      "source": [
        "### a) Integer Array Indexing"
      ],
      "metadata": {
        "id": "NS6rnwjVJ9uH"
      }
    },
    {
      "cell_type": "markdown",
      "source": [
        "The basic indexing work like this:\n",
        "```\n",
        "myAry = np.array(...)\n",
        "print(myAry[1])\n",
        "```\n",
        "\n",
        "NumPy also allows an **integer array** in the place of an integer as index. \n",
        "\n",
        "Returned: **Same shape** of the input index"
      ],
      "metadata": {
        "id": "A2kkuRLPTaYB"
      }
    },
    {
      "cell_type": "code",
      "source": [
        "# Use integer array in the place of integer\n",
        "\n",
        "myAry = np.arange(10, 0, -1)\n",
        "print(\"myAry = \", myAry)\n",
        "\n",
        "# Integer as index\n",
        "print(\"\\nScalar in, scalar out:\\n\", myAry[5])\n",
        "\n",
        "# 1-D array as index\n",
        "indAry = np.array([1, 3, -2])\n",
        "print(\"\\n1-D array in, 1-D array out:\\n\", myAry[indAry])\n",
        "\n",
        "# 2-D array as index\n",
        "indAry = np.array(\n",
        "    [[4,3],\n",
        "     [2,-1]])\n",
        "print(\"\\n2-D array in, 2-D array out:\\n\", myAry[indAry])\n",
        "\n",
        "# TIP: I advice against using lists instead of NumPy arrays in integer array indexing. \n",
        "#      The behavior is inconsistent because of some deprecated syntax."
      ],
      "metadata": {
        "id": "z92JzEwOTYqj"
      },
      "execution_count": null,
      "outputs": []
    },
    {
      "cell_type": "code",
      "source": [
        "# You can use integer array indexing on multi-dimensional array\n",
        "\n",
        "myAry = np.arange(25, 0, -1).reshape(5,5)\n",
        "print(\"myAry = \\n\", myAry)\n",
        "\n",
        "# Integers as indeces\n",
        "print(\"\\nScaler in, scalar out:\\n\", myAry[3,4])\n",
        "\n",
        "# 1-D arrays as indeces\n",
        "xAry_1 = np.array([1, 3, -2])\n",
        "yAry_1 = np.array([0, -1, 1])\n",
        "print(\"\\n1-D array in, 1-D array out:\\n\", myAry[xAry_1, yAry_1])\n",
        "\n",
        "# 2-D arrays as indeces\n",
        "xAry_2 = np.array(\n",
        "    [[4,3],\n",
        "     [2,-1]])\n",
        "yAry_2 = np.array(\n",
        "    [[-3,1],\n",
        "     [-2,0]])\n",
        "print(\"\\n2-D array in, 2-D array out:\\n\", myAry[xAry_2, yAry_2])\n",
        "\n",
        "# But! The input shapes of different axis have to be **COMPATIBLE**\n",
        "#print(myAry[xAry_1, yAry_2])\n",
        "\n",
        "# Think again, what does \"compatible\" here mean?"
      ],
      "metadata": {
        "id": "3Rhc12w7Wuce"
      },
      "execution_count": null,
      "outputs": []
    },
    {
      "cell_type": "code",
      "source": [
        "# Advanced Indexing can be combined with basic indexing and slicing\n",
        "\n",
        "myAry = np.arange(25, 0, -1).reshape(5,5)\n",
        "print(\"myAry = \\n\", myAry)\n",
        "\n",
        "# Integer array & basic indexing\n",
        "indAry = np.array(\n",
        "    [[4,3],\n",
        "     [2,-1]])\n",
        "print(\"\\nInteger array indexing & basic indexing:\\n\", myAry[indAry, 1])\n",
        "\n",
        "# Integer array & slicing\n",
        "indAry = np.array([0, -1, 1])\n",
        "print(\"\\nInteger array indexing & slicing:\\n\", myAry[indAry, :-1:2])"
      ],
      "metadata": {
        "id": "M2a3rkeRsvj5"
      },
      "execution_count": null,
      "outputs": []
    },
    {
      "cell_type": "code",
      "source": [
        "# Do you understand the difference between these two?\n",
        "\n",
        "myAry = np.arange(25, 0, -1).reshape(5,5)\n",
        "print(\"myAry = \\n\", myAry)\n",
        "\n",
        "# Scenario 1:\n",
        "indAry = (1, 3)\n",
        "print(\"\\nScenario 1:\\n\", myAry[indAry])   \n",
        "\n",
        "# Scenario 2:\n",
        "indAry = np.array([1, 3])\n",
        "print(\"\\nScenario 2:\\n\", myAry[indAry])\n",
        "\n",
        "# \"myAry[(1,3)]\":\n",
        "#     * Basic indexing\n",
        "#     * Equivalent to \"myAry[1,3]\"\n",
        "# \"myAry[np.array([1,3])]\":\n",
        "#     * Combination of advanced indexing & slicing\n",
        "#     * Equivalent to \"myAry[np.array(1,3), :]\""
      ],
      "metadata": {
        "id": "PLIMWc-9mf-C"
      },
      "execution_count": null,
      "outputs": []
    },
    {
      "cell_type": "markdown",
      "source": [
        "### b) Boolean Array Indexing (Masking)"
      ],
      "metadata": {
        "id": "617nt3rMSv5b"
      }
    },
    {
      "cell_type": "markdown",
      "source": [
        "If you have used `R` or `pandas` module before, this section should look very familiar to you.\n",
        "\n",
        "(Also known as \"masking\". But `NumPy` now has a dedicated submodule `numpy.ma` for masked array. What we are discussing here is officially called \"Boolean Array Indexing\")"
      ],
      "metadata": {
        "id": "iYTFx_MIJAdV"
      }
    },
    {
      "cell_type": "code",
      "source": [
        "# Basic usage\n",
        "\n",
        "# Remember we said comparison operators are ufuncs too?\n",
        "a = np.arange(5)\n",
        "b = np.arange(5, 0, -1)\n",
        "mask = a > b\n",
        "print(\" a = \\t\\t\", a)\n",
        "print(\" b = \\t\\t\", b)\n",
        "print(\"a>b = \\t\\t\", mask)\n",
        "\n",
        "# Do you know, this boolean array can be used as index too? See the results:\n",
        "print(\"a[mask] = \\t\", a[mask])\n",
        "\n",
        "# Basic rules:\n",
        "#   A True of False index:\n",
        "#     True:   Included\n",
        "#     False:  Excluded"
      ],
      "metadata": {
        "id": "_ouyLgrKJOOX"
      },
      "execution_count": null,
      "outputs": []
    },
    {
      "cell_type": "code",
      "source": [
        "# Also works for multi-dimensional arrays\n",
        "\n",
        "# 1-D boolean array as index\n",
        "# Will work on each axis\n",
        "myAry = np.arange(25, 0, -1).reshape(5,5)\n",
        "mask = np.array([True, False, False, True, False])\n",
        "print(\" myAry = \\n\", myAry)\n",
        "print(\"\\n mask = \\n\", mask)\n",
        "print(\"\\n myAry[mask] = \\n\", myAry[mask])             # On rows\n",
        "print(\"\\n myAry[:,mask] = \\n\", myAry[:,mask])         # On columns\n",
        "print(\"\\n myAry[mask,mask] = \\n\", myAry[mask,mask])   # On both\n",
        "\n",
        "# n-D boolean array as index\n",
        "# Will flatten the entire array (Don't really have a better solution for irregular shape, do we?)\n",
        "a = np.arange(25, 0, -1).reshape(5,5)\n",
        "b = np.arange(25).reshape(5,5)-8\n",
        "mask = a > b\n",
        "print(\"\\n a = \\n\", a)\n",
        "print(\"\\n b = \\n\", b)\n",
        "print(\"\\na>b = \\n\", a>b)\n",
        "print(\"\\na[mask] = \\n\", a[mask])"
      ],
      "metadata": {
        "id": "yaqBV7RnNQ4-"
      },
      "execution_count": null,
      "outputs": []
    },
    {
      "cell_type": "code",
      "source": [
        "# Advanced Indexing can be combined with basic indexing and slicing\n",
        "\n",
        "myAry = np.arange(25, 0, -1).reshape(5,5)\n",
        "print(\"myAry = \\n\", myAry)\n",
        "\n",
        "# Integer array & basic indexing\n",
        "indAry = np.array([True, False, False, True, False])\n",
        "print(\"\\nBoolean array indexing & basic indexing:\\n\", myAry[indAry, 1])\n",
        "\n",
        "# Integer array & slicing\n",
        "indAry = np.array([0, -1, 1])\n",
        "print(\"\\nBoolean array indexing & slicing:\\n\", myAry[indAry, :-1:2])"
      ],
      "metadata": {
        "id": "BLmvvSYIO1FS"
      },
      "execution_count": null,
      "outputs": []
    },
    {
      "cell_type": "code",
      "source": [
        "# A typical usage: Exclude all NaNs (Not-a-Number)\n",
        "\n",
        "# Find the mean value of all numbers in this array:\n",
        "myAry = np.array([[1., 2.], [np.nan, 3.], [np.nan, np.nan]])\n",
        "print(\"myAry = \\n\", myAry)\n",
        "\n",
        "# Not what I want\n",
        "print(\"\\n<Not what I want>\")\n",
        "print(\"Mean: \", myAry.mean())                     \n",
        "\n",
        "# Is what I want\n",
        "print(\"\\n<Is what I want>\")\n",
        "print(\"\\nIs it a number?:\\n\", ~np.isnan(myAry))\n",
        "print(\"\\nmyAry[~np.isnan(myAry)] = \", myAry[~np.isnan(myAry)])\n",
        "print(\"Mean: \", myAry[~np.isnan(myAry)].mean())"
      ],
      "metadata": {
        "id": "Z7qTYqXVRM6z"
      },
      "execution_count": null,
      "outputs": []
    },
    {
      "cell_type": "code",
      "source": [
        "# Another typical usage: Plotting with mask\n",
        "\n",
        "import matplotlib.pyplot as plt\n",
        "\n",
        "# Plot y = sin(x)\n",
        "x = np.linspace(0, 2*np.pi, 100)\n",
        "y = np.sin(x)\n",
        "plt.plot(x, y)\n",
        "plt.show()\n",
        "\n",
        "# Cut the negative\n",
        "plt.plot(x[y>=0], y[y>=0])\n",
        "plt.show()"
      ],
      "metadata": {
        "id": "UvG9vMY0ieqz"
      },
      "execution_count": null,
      "outputs": []
    },
    {
      "cell_type": "markdown",
      "source": [
        "### *) A Practice with a Practical Problem (Part 4)\n",
        "\n",
        "![4_4_problem_pt4](https://github.com/lsuhpchelp/loniscworkshop2023/raw/main/day2/images/4_4_problem_pt4.png)\n",
        "\n",
        "![4_4_problem_pt4_FWHM](https://github.com/lsuhpchelp/loniscworkshop2023/raw/main/day2/images/4_4_problem_pt4_FWHM.png)\n",
        "\n",
        "**!!CAUTION!!**\n",
        "\n",
        "* Use boolean array indexing for efficiency\n",
        "* Do **NOT** use loop even if you are attempted to!!"
      ],
      "metadata": {
        "id": "_-yqCjEihOdd"
      }
    },
    {
      "cell_type": "code",
      "source": [
        "#@markdown (Code to generate above FWHM figure)\n",
        "\n",
        "import matplotlib.pyplot as plt\n",
        "\n",
        "r = np.linspace(0, 40, 1000)\n",
        "psi_r = r**2 * np.exp(-r/3)\n",
        "P_r = r**2 * psi_r**2 / np.sum(r**2 * psi_r**2)\n",
        "filter = P_r > P_r.max()/2\n",
        "r_filtered = r[filter]\n",
        "P_filtered = P_r[filter]\n",
        "\n",
        "plt.plot(r, P_r)\n",
        "plt.hlines(P_r.max(), r[0], r[-1], 'k', ':')\n",
        "plt.hlines(P_r.max()/2, r[0], r[-1], 'k', ':')\n",
        "plt.hlines(P_r.max()/2, r_filtered[0], r_filtered[-1], 'k', lw=3)\n",
        "plt.vlines(r_filtered[0], 0, P_filtered[0], 'k', ':')\n",
        "plt.vlines(r_filtered[-1], 0, P_filtered[-1], 'k', ':')\n",
        "plt.plot(r_filtered, P_filtered)\n",
        "plt.annotate('P(r)', xy=(40, 0.0001), xytext=(40, 0.0001), ha='right')\n",
        "plt.annotate('Max P(r)', xy=(40, 0.0041), xytext=(40, 0.0041), ha='right')\n",
        "plt.annotate('Half max P(r)', xy=(40, 0.0019), xytext=(40, 0.0019), ha='right')\n",
        "plt.annotate('FWHM', xy=(9.5, 0.0019), xytext=(9.5, 0.0019), ha='center')\n",
        "plt.xlabel(\"r\")\n",
        "plt.ylabel(\"P\")\n",
        "plt.show()"
      ],
      "metadata": {
        "id": "zavu7Dgfomog",
        "cellView": "form"
      },
      "execution_count": null,
      "outputs": []
    },
    {
      "cell_type": "markdown",
      "source": [
        "You may be attempted to do something like this:\n",
        "\n",
        "(This is slow!)\n",
        "\n",
        "```\n",
        "P = ...\n",
        "for i in range(1000):\n",
        "  if P[i] > ...:\n",
        "    ...\n",
        "```\n",
        "\n"
      ],
      "metadata": {
        "id": "yIUVpx0DhOde"
      }
    },
    {
      "cell_type": "markdown",
      "source": [
        "Instead, use boolean array (and aggregation functions)!"
      ],
      "metadata": {
        "id": "9qj2pbSQhOde"
      }
    },
    {
      "cell_type": "code",
      "source": [
        "# Hint: If you wrote more than one line for each \"FIX ME\", you are doing something wrong\n",
        "\n",
        "import numpy as np\n",
        "\n",
        "# Define coordinates\n",
        "# Hint: Use np.linspace()\n",
        "r = # FIX ME\n",
        "\n",
        "# Calculate function on each dimension\n",
        "# Hint: Use ufunc np.exp()\n",
        "psi_r = # FIX ME\n",
        "\n",
        "# Calculate probability distribution\n",
        "# Hint: Use aggregation function np.sum(), np.abs() and ufuncs\n",
        "P = # FIX ME\n",
        "\n",
        "# Filter r array to only include the part where P is greater than half of maximum P\n",
        "# Hint: Use boolean array indexing and aggregation function max()\n",
        "r_filtered = # FIX ME\n",
        "\n",
        "# Calculate FWHM\n",
        "FWHM = # FIX ME\n",
        "\n",
        "print(\"FWHM is:\", FWHM)"
      ],
      "metadata": {
        "id": "nXXO8SCYhOde"
      },
      "execution_count": null,
      "outputs": []
    },
    {
      "cell_type": "code",
      "source": [
        "#@markdown Show solution\n",
        "\n",
        "import numpy as np\n",
        "\n",
        "# Define coordinates\n",
        "r = np.linspace(0, 40, 1000)\n",
        "\n",
        "# Calculate function on each dimension\n",
        "psi_r = r**2 * np.exp(-r/3)\n",
        "\n",
        "# Calculate probability distribution\n",
        "P = r**2 * psi_r**2 / np.sum(r**2 * np.abs(psi_r)**2)\n",
        "\n",
        "# Filter r array to only include the part where P_r is greater than half of maximum P_r\n",
        "# Hint: Use boolean array indexing and aggregation function max()\n",
        "r_filtered = r[P > P.max()/2]\n",
        "\n",
        "# Calculate FWHM\n",
        "FWHM = r_filtered[-1] - r_filtered[0]\n",
        "\n",
        "print(\"FWHM is:\", FWHM)"
      ],
      "metadata": {
        "id": "YBU8MppFhOdf",
        "cellView": "form"
      },
      "execution_count": null,
      "outputs": []
    },
    {
      "cell_type": "markdown",
      "source": [
        "<br><br>\n",
        "\n",
        "---\n",
        "# **5. Examples**\n",
        "---"
      ],
      "metadata": {
        "id": "VICyHTVe-Emy"
      }
    },
    {
      "cell_type": "markdown",
      "source": [
        "## 1) Calculate Derivative of Function"
      ],
      "metadata": {
        "id": "EgWeTc9QSYTK"
      }
    },
    {
      "cell_type": "code",
      "execution_count": null,
      "metadata": {
        "id": "t49MEscWgO8j"
      },
      "outputs": [],
      "source": [
        "import numpy as np\n",
        "\n",
        "# Define coordinates (and return dx)\n",
        "x, dx = np.linspace(0, 4*np.pi, 200, retstep=True)\n",
        "\n",
        "# Get y\n",
        "y = np.sin(x)\n",
        "\n",
        "# Calculate derivative (using difference to approximate derivative)\n",
        "dy_dx = (y[1:] - y[:-1]) / dx     # y[1]-y[0], y[2]-y[1], ..., y[-1]-y[-2]\n",
        "\n",
        "print(\"dy_dx.shape = \", dy_dx.shape)\n",
        "print(\"\\ndy_dx = \\n\", dy_dx)"
      ]
    },
    {
      "cell_type": "code",
      "source": [
        "# Plot and compare against the analytical results\n",
        "\n",
        "import matplotlib.pyplot as plt\n",
        "\n",
        "plt.plot(x[:-1], dy_dx, 'x', label=\"Calculated\")\n",
        "plt.plot(x, np.cos(x), '-', label=\"Analytical\")\n",
        "plt.legend()\n",
        "plt.show()"
      ],
      "metadata": {
        "id": "m0r0JLAgldlA"
      },
      "execution_count": null,
      "outputs": []
    },
    {
      "cell_type": "markdown",
      "metadata": {
        "id": "xkCuC14jgO8q"
      },
      "source": [
        "## 2) Color Editing of an RGB Image"
      ]
    },
    {
      "cell_type": "code",
      "execution_count": null,
      "metadata": {
        "id": "U28S_haSgO8q"
      },
      "outputs": [],
      "source": [
        "# Import an RGB image\n",
        "\n",
        "# Do not worry about these modules if you are not familiar with them.\n",
        "import numpy as np \n",
        "import imageio.v3 as iio\n",
        "import matplotlib.pyplot as plt\n",
        "\n",
        "# Read an image\n",
        "img = iio.imread('https://github.com/lsuhpchelp/loniscworkshop2023/raw/main/day2/images/5_2_racoon.png')\n",
        "\n",
        "# Plot the image\n",
        "plt.imshow(img)\n",
        "plt.show()\n",
        "\n",
        "# What's in img?\n",
        "print(\"\\nThe type if img is:\", type(img))\n",
        "print(\"\\nThe shape if img is:\", img.shape)\n",
        "#Co#print(\"\\nThe value if img is:\\n\", img)"
      ]
    },
    {
      "cell_type": "code",
      "execution_count": null,
      "metadata": {
        "id": "-nQaGEW9gO8v"
      },
      "outputs": [],
      "source": [
        "# Show only the red channel\n",
        "#\n",
        "# * For an RGB image:\n",
        "#     - Red channel:    [:, :, 0]\n",
        "#     - Green channel:  [:, :, 1]\n",
        "#     - Blue channel:   [:, :, 2]\n",
        "# * To keep only the red channel, set all others to 0\n",
        "\n",
        "# Make a copy of original image\n",
        "img_red = img.copy()\n",
        "\n",
        "# Set green and blue channel to 0\n",
        "img_red[:, :, 1:] = 0\n",
        "\n",
        "# Plot\n",
        "plt.imshow(img_red)\n",
        "plt.show()"
      ]
    },
    {
      "cell_type": "code",
      "execution_count": null,
      "metadata": {
        "id": "WPKJZNodnGYU"
      },
      "outputs": [],
      "source": [
        "# Change color image to gray\n",
        "#\n",
        "# * Gray color is when all 3 channels have the same value\n",
        "# * Change the value of each channel at each pixel to the mean of all 3 channels\n",
        "\n",
        "# Create image of the same shape\n",
        "img_gray = np.empty_like(img, dtype=\"uint8\")\n",
        "\n",
        "# Calculate the average value of all 3 chanels at each pixel\n",
        "img_mean = img.mean(axis=-1)                    # What is the shape of this?\n",
        "#print(img_mean.shape)\n",
        "\n",
        "# Give this averaged image to all 3 channels\n",
        "img_gray[:,:,:] = img_mean.reshape(512,512,1)   # What is this? Why reshape?\n",
        "\n",
        "# Plot\n",
        "plt.imshow(img_gray)\n",
        "plt.show()"
      ]
    },
    {
      "cell_type": "markdown",
      "metadata": {
        "id": "bf8HKORPgO81"
      },
      "source": [
        "## 3) Scipy Example: Linear Regression"
      ]
    },
    {
      "cell_type": "code",
      "source": [
        "# Calculate the linear regression of these data points:\n",
        "\n",
        "import numpy as np\n",
        "import matplotlib.pyplot as plt\n",
        "\n",
        "# Data points\n",
        "x = np.array([1, 2, 5, 7, 10, 15])\n",
        "y = np.array([2, 6, 7, 9, 14, 19]) \n",
        "\n",
        "# Plot the data points\n",
        "plt.plot(x, y, \"o\")\n",
        "plt.show()"
      ],
      "metadata": {
        "id": "CO0nUsDNroLn"
      },
      "execution_count": null,
      "outputs": []
    },
    {
      "cell_type": "code",
      "execution_count": null,
      "metadata": {
        "id": "Mpkqa5VDgO82"
      },
      "outputs": [],
      "source": [
        "# Calculate linear regression\n",
        "\n",
        "from scipy.stats import linregress\n",
        "\n",
        "# Calculate\n",
        "slope, intercept, rvalue, pvalue, std_err = linregress(x, y)\n",
        "\n",
        "# Plot the results\n",
        "plt.plot(x, y, 'o')                       # Data points\n",
        "plt.plot(x, slope * x + intercept, '-')   # Results of linear regression\n",
        "plt.show()"
      ]
    }
  ],
  "metadata": {
    "colab": {
      "collapsed_sections": [
        "DdlQwl05ibyS",
        "IfxMvcwMLj9D",
        "t7G9_NVE_-ge",
        "9C9bn72NACIQ",
        "3XTu02FGbpya",
        "VkfA0g1H2plC",
        "7IJXgzjN3Hes",
        "z11ke-zlb19F",
        "EafcYxgxdCZY",
        "y_qQbwFZXv1N",
        "rxHCVdO8cs9x",
        "l9NIpZdzjH0f",
        "728TIK2azK4t",
        "8P7Lo_wE2ezy",
        "eQxt7QI9I9gt",
        "rhmxkQTkaLgN",
        "nKqY30pYf1eW",
        "W_0BzVYSSfuE",
        "furSEeGTziNt",
        "9WDt_iFhSobx",
        "zauhyozs1ECn",
        "kQTDuoyP1f_p",
        "MkweV-jd1jBu",
        "qXqEQv5cdFRq",
        "9FqrKfzioThs",
        "TnthNJS-4V1h",
        "gm_B5V9xSiik",
        "Ql_4y206P3i_",
        "_p6Coa_f4ZHq",
        "x_DDQXfpkvqJ",
        "POgeEiE3om6P",
        "mMthgSGounlI",
        "ewwMD690zy-Z",
        "uwts-bcQXRg6",
        "KssPB6uldlmb",
        "63hn7tmu86Th",
        "t9v9Y51q4s6_",
        "ZTXX9V75YUn8",
        "BE0L6gd5oTgO",
        "EY-lSvC944St",
        "NS6rnwjVJ9uH",
        "617nt3rMSv5b",
        "_-yqCjEihOdd",
        "VICyHTVe-Emy",
        "EgWeTc9QSYTK",
        "xkCuC14jgO8q",
        "bf8HKORPgO81"
      ],
      "provenance": [],
      "toc_visible": true,
      "include_colab_link": true
    },
    "kernelspec": {
      "display_name": "Python 3",
      "language": "python",
      "name": "python3"
    },
    "language_info": {
      "codemirror_mode": {
        "name": "ipython",
        "version": 3
      },
      "file_extension": ".py",
      "mimetype": "text/x-python",
      "name": "python",
      "nbconvert_exporter": "python",
      "pygments_lexer": "ipython3",
      "version": "3.8.5"
    }
  },
  "nbformat": 4,
  "nbformat_minor": 0
}