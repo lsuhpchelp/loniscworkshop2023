{
  "nbformat": 4,
  "nbformat_minor": 0,
  "metadata": {
    "colab": {
      "provenance": [],
      "authorship_tag": "ABX9TyPrKlZoi4vDHs+YVC/cCTuL",
      "include_colab_link": true
    },
    "kernelspec": {
      "name": "python3",
      "display_name": "Python 3"
    },
    "language_info": {
      "name": "python"
    }
  },
  "cells": [
    {
      "cell_type": "markdown",
      "metadata": {
        "id": "view-in-github",
        "colab_type": "text"
      },
      "source": [
        "<a href=\"https://colab.research.google.com/github/lsuhpchelp/loniscworkshop2023/blob/main/ProblemsPython101.ipynb\" target=\"_parent\"><img src=\"https://colab.research.google.com/assets/colab-badge.svg\" alt=\"Open In Colab\"/></a>"
      ]
    },
    {
      "cell_type": "markdown",
      "source": [
        "#Examples: Please solve the following problems: (Feel free to ask for help)"
      ],
      "metadata": {
        "id": "kRRVgXrxuxct"
      }
    },
    {
      "cell_type": "markdown",
      "source": [
        "1. Write a line of code to print the sum of 999 and 1600"
      ],
      "metadata": {
        "id": "TzAuFBDgu5Hd"
      }
    },
    {
      "cell_type": "code",
      "execution_count": null,
      "metadata": {
        "id": "XvSgcdbJuwpV"
      },
      "outputs": [],
      "source": []
    },
    {
      "cell_type": "markdown",
      "source": [
        "2. Write a line of code to print out your \"Hello, Name\" where Name is your name.\n",
        "Use user input() to assign your name.\n",
        "---\n",
        "\n"
      ],
      "metadata": {
        "id": "8yUGj1D3u8_B"
      }
    },
    {
      "cell_type": "markdown",
      "source": [
        "3. Write a program to count occurrences of all characters within a string. Use count() method and dictionary. "
      ],
      "metadata": {
        "id": "zkY8tRwExYMk"
      }
    },
    {
      "cell_type": "code",
      "source": [
        "aRandomString = \"\"\" Lorem ipsum dolor sit amet,\n",
        "consectetur adipiscing elit,\n",
        "sed do eiusmod tempor incididunt\n",
        "ut labore et dolore magna aliqua.\"\"\""
      ],
      "metadata": {
        "id": "Yf_BaBTRvDHP"
      },
      "execution_count": null,
      "outputs": []
    },
    {
      "cell_type": "markdown",
      "source": [
        "4. Split a string on spaces and output each substring. Use split() method and for loop."
      ],
      "metadata": {
        "id": "QxP_HrATyEoL"
      }
    },
    {
      "cell_type": "code",
      "source": [
        "aRandomString = \"\"\" Lorem ipsum dolor sit amet,\n",
        "consectetur adipiscing elit,\n",
        "sed do eiusmod tempor incididunt\n",
        "ut labore et dolore magna aliqua.\"\"\""
      ],
      "metadata": {
        "id": "26S7FQonyD-2"
      },
      "execution_count": null,
      "outputs": []
    },
    {
      "cell_type": "markdown",
      "source": [
        "4. Write a code snippet to calculate the total of the shopping spree on Rodeo \n",
        "\n",
        "   Dr. You bought:\n",
        "\n",
        "   1 pair of shoes: 2400\n",
        "   1𝑝𝑎𝑖𝑟𝑜𝑓𝑠𝑙𝑎𝑐𝑘𝑠: 1500\n",
        "   ruby ring: 22000\n",
        "\n",
        "   State and local tax is 22%.\n",
        "\n",
        "   You want to print out the untaxed total, the amount of tax and the total of tax and goods."
      ],
      "metadata": {
        "id": "gUzm7aUbvQHZ"
      }
    },
    {
      "cell_type": "code",
      "source": [],
      "metadata": {
        "id": "m2Rz9Rg9vaFC"
      },
      "execution_count": null,
      "outputs": []
    },
    {
      "cell_type": "markdown",
      "source": [
        "  5. Using the code you wrote above make the tax calculation a function block and the shopping total a function block"
      ],
      "metadata": {
        "id": "01u7gU48vf2k"
      }
    },
    {
      "cell_type": "code",
      "source": [],
      "metadata": {
        "id": "FVNz4C_rv3mq"
      },
      "execution_count": null,
      "outputs": []
    },
    {
      "cell_type": "markdown",
      "source": [
        "6. **Create a leap year finder based on the following algorithm:\n",
        "\n",
        "Leap years occur according to the following formula: a leap year is divisible by four, but not by one hundred, unless it is divisible by four hundred. For example, 1992, 1996, and 2000 are leap years, but 1993 and 1900 are not. The next leap year that falls on a century will be 2400.\n",
        "\n",
        "Use the following list to check and see if your code is correct. The list of leap years from 1900 to 2400 inclusive is:\n",
        "\n",
        "1904, 1908, 1912, 1916, 1920, 1924, 1928, 1932, 1936, 1940, 1944, 1948, 1952, 1956, 1960, 1964, 1968, 1972, 1976, 1980, 1984, 1988, 1992, 1996, 2000, 2004, 2008, 2012, 2016, 2020"
      ],
      "metadata": {
        "id": "bq9VP_Bxv4Fn"
      }
    },
    {
      "cell_type": "code",
      "source": [],
      "metadata": {
        "id": "vl4L1Fw1v7ME"
      },
      "execution_count": null,
      "outputs": []
    },
    {
      "cell_type": "markdown",
      "source": [
        "7. Solve the same problem as above but make the leap year calculation & printing a function."
      ],
      "metadata": {
        "id": "Zt0piHd8v8Cy"
      }
    },
    {
      "cell_type": "code",
      "source": [],
      "metadata": {
        "id": "4r2ZIibEwHz5"
      },
      "execution_count": null,
      "outputs": []
    },
    {
      "cell_type": "markdown",
      "source": [
        "8. Using the code in the prime number example in the Control Structures section fix the code so it only prints out each prime number once."
      ],
      "metadata": {
        "id": "8beK_u4_wPGd"
      }
    },
    {
      "cell_type": "code",
      "source": [],
      "metadata": {
        "id": "FgO6tokfwRyd"
      },
      "execution_count": null,
      "outputs": []
    }
  ]
}