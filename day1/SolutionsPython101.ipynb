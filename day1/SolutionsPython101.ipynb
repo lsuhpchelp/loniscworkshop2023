{
  "nbformat": 4,
  "nbformat_minor": 0,
  "metadata": {
    "colab": {
      "provenance": [],
      "authorship_tag": "ABX9TyPMsLP5UWOVHJPT3ZNCsb/6",
      "include_colab_link": true
    },
    "kernelspec": {
      "name": "python3",
      "display_name": "Python 3"
    },
    "language_info": {
      "name": "python"
    }
  },
  "cells": [
    {
      "cell_type": "markdown",
      "metadata": {
        "id": "view-in-github",
        "colab_type": "text"
      },
      "source": [
        "<a href=\"https://colab.research.google.com/github/lsuhpchelp/loniscworkshop2023/blob/main/day1/SolutionsPython101.ipynb\" target=\"_parent\"><img src=\"https://colab.research.google.com/assets/colab-badge.svg\" alt=\"Open In Colab\"/></a>"
      ]
    },
    {
      "cell_type": "markdown",
      "source": [
        "#Examples: Please solve the following problems: (Feel free to ask for help)"
      ],
      "metadata": {
        "id": "kRRVgXrxuxct"
      }
    },
    {
      "cell_type": "markdown",
      "source": [
        "1. Write a line of code to print the sum of 999 and 1600."
      ],
      "metadata": {
        "id": "TzAuFBDgu5Hd"
      }
    },
    {
      "cell_type": "code",
      "execution_count": 15,
      "metadata": {
        "id": "XvSgcdbJuwpV",
        "colab": {
          "base_uri": "https://localhost:8080/"
        },
        "outputId": "39e1e86d-2d79-48c3-ff79-d275ce4071b0"
      },
      "outputs": [
        {
          "output_type": "stream",
          "name": "stdout",
          "text": [
            "My integer is  2599\n"
          ]
        }
      ],
      "source": [
        "myVar1 = 999\n",
        "myVar2 = \"1600\"\n",
        "\n",
        "print(\"My integer is \", myVar1  + int(myVar2))"
      ]
    },
    {
      "cell_type": "markdown",
      "source": [
        "2. Write a line of code to print out your \"Hello, Name\" where Name is your name.\n",
        "Use the input() method to assign your name.\n",
        "\n"
      ],
      "metadata": {
        "id": "8yUGj1D3u8_B"
      }
    },
    {
      "cell_type": "code",
      "source": [
        "myInputVar = input(\"Please enter your Name\")\n",
        "\n",
        "print(\"Hello, \", myInputVar)"
      ],
      "metadata": {
        "colab": {
          "base_uri": "https://localhost:8080/"
        },
        "id": "yWmHR-qIWtq9",
        "outputId": "b2053645-e054-4917-f2e3-0f1ea67863e3"
      },
      "execution_count": 16,
      "outputs": [
        {
          "output_type": "stream",
          "name": "stdout",
          "text": [
            "Please enter your NameOleg\n",
            "Hello,  Oleg\n"
          ]
        }
      ]
    },
    {
      "cell_type": "markdown",
      "source": [
        "3. Write a program to count occurrences of all characters within a string. Use the count() method and the dictionary. "
      ],
      "metadata": {
        "id": "zkY8tRwExYMk"
      }
    },
    {
      "cell_type": "code",
      "source": [
        "aRandomString = \"\"\" Lorem ipsum dolor sit amet,\n",
        "consectetur adipiscing elit,\n",
        "sed do eiusmod tempor incididunt\n",
        "ut labore et dolore magna aliqua.\"\"\"\n",
        "\n",
        "myCharDict = dict()\n",
        "\n",
        "for char in aRandomString:\n",
        "  count = aRandomString.count(char)\n",
        "\n",
        "  myCharDict[char] = count\n",
        "\n",
        "print(\"The result of counting a character \", myCharDict)"
      ],
      "metadata": {
        "id": "Yf_BaBTRvDHP",
        "colab": {
          "base_uri": "https://localhost:8080/"
        },
        "outputId": "f6846d6c-319c-40db-f035-51550dfea7a3"
      },
      "execution_count": 18,
      "outputs": [
        {
          "output_type": "stream",
          "name": "stdout",
          "text": [
            "The result of counting a character  {' ': 16, 'L': 1, 'o': 10, 'r': 6, 'e': 11, 'm': 6, 'i': 11, 'p': 3, 's': 6, 'u': 6, 'd': 8, 'l': 5, 't': 9, 'a': 7, ',': 2, '\\n': 3, 'c': 4, 'n': 5, 'g': 2, 'b': 1, 'q': 1, '.': 1}\n"
          ]
        }
      ]
    },
    {
      "cell_type": "markdown",
      "source": [
        "4. Split a string on spaces and output each substring. Use the split() method and for loop."
      ],
      "metadata": {
        "id": "QxP_HrATyEoL"
      }
    },
    {
      "cell_type": "code",
      "source": [
        "aRandomString = \"\"\"Lorem;ipsum;dolor;sit;amet;consectetur;adipiscing; \n",
        "elit;sed;do;eiusmod;tempor;incididunt;ut;labore;et;dolore;magna;aliqua\"\"\"\n",
        "\n",
        "subString = aRandomString.split(\";\")\n",
        "\n",
        "for i in subString:\n",
        "  print(i)"
      ],
      "metadata": {
        "id": "26S7FQonyD-2",
        "colab": {
          "base_uri": "https://localhost:8080/"
        },
        "outputId": "f994d96b-5e63-480b-f414-0475354a6680"
      },
      "execution_count": 30,
      "outputs": [
        {
          "output_type": "stream",
          "name": "stdout",
          "text": [
            "Lorem\n",
            "ipsum\n",
            "dolor\n",
            "sit\n",
            "amet\n",
            "consectetur\n",
            "adipiscing\n",
            " \n",
            "elit\n",
            "sed\n",
            "do\n",
            "eiusmod\n",
            "tempor\n",
            "incididunt\n",
            "ut\n",
            "labore\n",
            "et\n",
            "dolore\n",
            "magna\n",
            "aliqua\n"
          ]
        }
      ]
    },
    {
      "cell_type": "markdown",
      "source": [
        "4. Write a code snippet to calculate the total of the shopping spree on Rodeo. \n",
        "\n",
        "   Dr. You bought:\n",
        "\n",
        "   1 pair of shoes: 2400\n",
        "   1𝑝𝑎𝑖𝑟𝑜𝑓𝑠𝑙𝑎𝑐𝑘𝑠: 1500\n",
        "   ruby ring: 22000\n",
        "\n",
        "   State and local tax is 22%.\n",
        "\n",
        "   You want to print out the untaxed total, the amount of tax and the total of tax and goods."
      ],
      "metadata": {
        "id": "gUzm7aUbvQHZ"
      }
    },
    {
      "cell_type": "code",
      "source": [
        "myRodeoDict = {\"shoes\":2400, \"slacks\":1500, \"ring\":22000}\n",
        "print(\"My Dictionary :\", myRodeoDict)\n",
        "\n",
        "myTotalExpenses = sum(myRodeoDict.values())\n",
        "print(myTotalExpenses)\n",
        "\n",
        "myPaidTaxes = 0.22 * myTotalExpenses\n",
        "print(myPaidTaxes)\n",
        "\n",
        "grandTotal = myPaidTaxes + myTotalExpenses\n",
        "print(grandTotal)"
      ],
      "metadata": {
        "colab": {
          "base_uri": "https://localhost:8080/"
        },
        "id": "Bq0bNDTDazgq",
        "outputId": "6bb19884-518c-45a7-a335-41f9fe52f113"
      },
      "execution_count": 35,
      "outputs": [
        {
          "output_type": "stream",
          "name": "stdout",
          "text": [
            "My Dictionary : {'shoes': 2400, 'slacks': 1500, 'ring': 22000}\n",
            "25900\n",
            "5698.0\n",
            "31598.0\n"
          ]
        }
      ]
    },
    {
      "cell_type": "markdown",
      "source": [
        "  5. Using the code you wrote above, make the tax calculation a function block and the shopping total a function block."
      ],
      "metadata": {
        "id": "01u7gU48vf2k"
      }
    },
    {
      "cell_type": "code",
      "source": [
        "def myShoppingList(myRodeoDict):\n",
        "  return sum(myRodeoDict.values())\n",
        "\n",
        "def myPaidRodeoTax(myTotalExpenses): \n",
        "  return 0.22 * myTotalExpenses\n",
        "\n",
        "  myTotalExpenses = myShoppingList(myRodeoDict)\n",
        "\n",
        "print(\"My total expanses:\", myTotalExpenses)\n",
        "print(\"My paid taxes:\", myPaidRodeoTax(myTotalExpenses))\n",
        "print(\"My totla expenses:\", myTotalExpenses + myPaidRodeoTax(myTotalExpenses))\n"
      ],
      "metadata": {
        "id": "FVNz4C_rv3mq",
        "colab": {
          "base_uri": "https://localhost:8080/"
        },
        "outputId": "5e2c763c-4dab-4f31-d22a-a6d1ab224891"
      },
      "execution_count": 40,
      "outputs": [
        {
          "output_type": "stream",
          "name": "stdout",
          "text": [
            "My total expanses: 25900\n",
            "My paid taxes: 5698.0\n",
            "My totla expenses: 31598.0\n"
          ]
        }
      ]
    },
    {
      "cell_type": "markdown",
      "source": [
        "6. Create a leap year finder based on the following algorithm:\n",
        "\n",
        "Leap years occur according to the following formula: a leap year is divisible by four, but not by one hundred, unless it is divisible by four hundred. For example, 1992, 1996, and 2000 are leap years, but 1993 and 1900 are not. The next leap year that falls on a century will be 2400.\n",
        "\n",
        "Use the following list to check and see if your code is correct. The list of leap years from 1900 to 2400 inclusive is:\n",
        "\n",
        "1904, 1908, 1912, 1916, 1920, 1924, 1928, 1932, 1936, 1940, 1944, 1948, 1952, 1956, 1960, 1964, 1968, 1972, 1976, 1980, 1984, 1988, 1992, 1996, 2000, 2004, 2008, 2012, 2016, 2020"
      ],
      "metadata": {
        "id": "bq9VP_Bxv4Fn"
      }
    },
    {
      "cell_type": "code",
      "source": [],
      "metadata": {
        "id": "vl4L1Fw1v7ME"
      },
      "execution_count": null,
      "outputs": []
    },
    {
      "cell_type": "markdown",
      "source": [
        "7. Solve the same problem as above but make the leap year calculation & printing a function."
      ],
      "metadata": {
        "id": "Zt0piHd8v8Cy"
      }
    },
    {
      "cell_type": "code",
      "source": [],
      "metadata": {
        "id": "4r2ZIibEwHz5"
      },
      "execution_count": null,
      "outputs": []
    },
    {
      "cell_type": "markdown",
      "source": [
        "8. Using the code in the prime number example in the Control Structures section fix the code so it only prints out each prime number once."
      ],
      "metadata": {
        "id": "8beK_u4_wPGd"
      }
    },
    {
      "cell_type": "code",
      "source": [
        "#prime numbers\n",
        "n = 2\n",
        "while n < 10:\n",
        "    prime = True\n",
        "    for x in range(2,n):\n",
        "        if n % x == 0:\n",
        "            prime = False\n",
        "            break\n",
        "    if prime:\n",
        "      print(n, 'is a prime #  ')\n",
        "    n = n + 1"
      ],
      "metadata": {
        "id": "FgO6tokfwRyd"
      },
      "execution_count": null,
      "outputs": []
    }
  ]
}